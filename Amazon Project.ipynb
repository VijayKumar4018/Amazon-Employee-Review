{
 "cells": [
  {
   "cell_type": "code",
   "execution_count": 1,
   "id": "b62078ad",
   "metadata": {},
   "outputs": [],
   "source": [
    "# Import necessary libraries\n",
    "import numpy as np               # Import NumPy for numerical operations\n",
    "import pandas as pd              # Import pandas for data manipulation and analysis\n",
    "import copy                      # Import the copy module for creating deep copies of objects\n",
    "import matplotlib.pyplot as plt  # Import Matplotlib for creating data visualizations\n",
    "import seaborn as sns            # Import Seaborn for enhanced data visualization capabilities\n",
    "                     "
   ]
  },
  {
   "cell_type": "code",
   "execution_count": 2,
   "id": "19fb48fc",
   "metadata": {
    "scrolled": true
   },
   "outputs": [
    {
     "data": {
      "text/html": [
       "<div>\n",
       "<style scoped>\n",
       "    .dataframe tbody tr th:only-of-type {\n",
       "        vertical-align: middle;\n",
       "    }\n",
       "\n",
       "    .dataframe tbody tr th {\n",
       "        vertical-align: top;\n",
       "    }\n",
       "\n",
       "    .dataframe thead th {\n",
       "        text-align: right;\n",
       "    }\n",
       "</style>\n",
       "<table border=\"1\" class=\"dataframe\">\n",
       "  <thead>\n",
       "    <tr style=\"text-align: right;\">\n",
       "      <th></th>\n",
       "      <th>Name</th>\n",
       "      <th>Place1</th>\n",
       "      <th>Place2</th>\n",
       "      <th>Department</th>\n",
       "      <th>Department1</th>\n",
       "      <th>Overall_rating</th>\n",
       "      <th>work_life_balance</th>\n",
       "      <th>skill_development</th>\n",
       "      <th>salary_and_benefits</th>\n",
       "      <th>job_security</th>\n",
       "      <th>career_growth</th>\n",
       "      <th>work_satisfaction</th>\n",
       "      <th>Likes</th>\n",
       "      <th>Dislikes</th>\n",
       "    </tr>\n",
       "  </thead>\n",
       "  <tbody>\n",
       "    <tr>\n",
       "      <th>0</th>\n",
       "      <td>Software Development Engineer</td>\n",
       "      <td>Hyderabad</td>\n",
       "      <td>Secunderabad</td>\n",
       "      <td>Software Development Department</td>\n",
       "      <td>NaN</td>\n",
       "      <td>2</td>\n",
       "      <td>1</td>\n",
       "      <td>2</td>\n",
       "      <td>5</td>\n",
       "      <td>1.0</td>\n",
       "      <td>3</td>\n",
       "      <td>3.0</td>\n",
       "      <td>The office is great and you have best in indus...</td>\n",
       "      <td>Worst work life balance.\\nThe managers have to...</td>\n",
       "    </tr>\n",
       "    <tr>\n",
       "      <th>1</th>\n",
       "      <td>Dls Case Specialist II HR Assistant</td>\n",
       "      <td>Hyderabad</td>\n",
       "      <td>Secunderabad</td>\n",
       "      <td>HR Operations Department</td>\n",
       "      <td>NaN</td>\n",
       "      <td>1</td>\n",
       "      <td>5</td>\n",
       "      <td>1</td>\n",
       "      <td>3</td>\n",
       "      <td>1.0</td>\n",
       "      <td>2</td>\n",
       "      <td>1.0</td>\n",
       "      <td>Good work life balance and team building exerc...</td>\n",
       "      <td>No job security. They will cut you out any-day...</td>\n",
       "    </tr>\n",
       "    <tr>\n",
       "      <th>2</th>\n",
       "      <td>Customer Support Associate   (working remotely)</td>\n",
       "      <td>NaN</td>\n",
       "      <td>NaN</td>\n",
       "      <td>Customer Success Department</td>\n",
       "      <td>NaN</td>\n",
       "      <td>1</td>\n",
       "      <td>2</td>\n",
       "      <td>1</td>\n",
       "      <td>2</td>\n",
       "      <td>1.0</td>\n",
       "      <td>2</td>\n",
       "      <td>NaN</td>\n",
       "      <td>good about this company, provides virtual roles</td>\n",
       "      <td>this company is really bad , no job security ,...</td>\n",
       "    </tr>\n",
       "    <tr>\n",
       "      <th>3</th>\n",
       "      <td>Sds Associate   (working remotely)</td>\n",
       "      <td>NaN</td>\n",
       "      <td>NaN</td>\n",
       "      <td>Non Voice Department</td>\n",
       "      <td>NaN</td>\n",
       "      <td>2</td>\n",
       "      <td>3</td>\n",
       "      <td>2</td>\n",
       "      <td>2</td>\n",
       "      <td>2.0</td>\n",
       "      <td>2</td>\n",
       "      <td>NaN</td>\n",
       "      <td>Leaves are there but more than policy it will ...</td>\n",
       "      <td>To be honest there are Many consumer team but ...</td>\n",
       "    </tr>\n",
       "    <tr>\n",
       "      <th>4</th>\n",
       "      <td>Software Developer</td>\n",
       "      <td>Bengaluru</td>\n",
       "      <td>Bangalore, Karnataka</td>\n",
       "      <td>Software Development Department</td>\n",
       "      <td>NaN</td>\n",
       "      <td>NaN</td>\n",
       "      <td>3</td>\n",
       "      <td>4</td>\n",
       "      <td>5</td>\n",
       "      <td>3.0</td>\n",
       "      <td>4</td>\n",
       "      <td>NaN</td>\n",
       "      <td>Amazon has high standard when it comes to runn...</td>\n",
       "      <td>Management layer has lot of redundancies.</td>\n",
       "    </tr>\n",
       "    <tr>\n",
       "      <th>...</th>\n",
       "      <td>...</td>\n",
       "      <td>...</td>\n",
       "      <td>...</td>\n",
       "      <td>...</td>\n",
       "      <td>...</td>\n",
       "      <td>...</td>\n",
       "      <td>...</td>\n",
       "      <td>...</td>\n",
       "      <td>...</td>\n",
       "      <td>...</td>\n",
       "      <td>...</td>\n",
       "      <td>...</td>\n",
       "      <td>...</td>\n",
       "      <td>...</td>\n",
       "    </tr>\n",
       "    <tr>\n",
       "      <th>10033</th>\n",
       "      <td>Gama</td>\n",
       "      <td>Del</td>\n",
       "      <td>NaN</td>\n",
       "      <td>Policy Department</td>\n",
       "      <td>NaN</td>\n",
       "      <td>3</td>\n",
       "      <td>2</td>\n",
       "      <td>3</td>\n",
       "      <td>5</td>\n",
       "      <td>1.0</td>\n",
       "      <td>3</td>\n",
       "      <td>2.0</td>\n",
       "      <td>Good pay, 6 pagers, focus on prioritisation an...</td>\n",
       "      <td>NaN</td>\n",
       "    </tr>\n",
       "    <tr>\n",
       "      <th>10034</th>\n",
       "      <td>Gama</td>\n",
       "      <td>Del</td>\n",
       "      <td>NaN</td>\n",
       "      <td>Policy Department</td>\n",
       "      <td>NaN</td>\n",
       "      <td>3</td>\n",
       "      <td>2</td>\n",
       "      <td>3</td>\n",
       "      <td>5</td>\n",
       "      <td>1.0</td>\n",
       "      <td>3</td>\n",
       "      <td>2.0</td>\n",
       "      <td>Good pay, 6 pagers, focus on prioritisation an...</td>\n",
       "      <td>NaN</td>\n",
       "    </tr>\n",
       "    <tr>\n",
       "      <th>10035</th>\n",
       "      <td>Gama</td>\n",
       "      <td>Del</td>\n",
       "      <td>NaN</td>\n",
       "      <td>Policy Department</td>\n",
       "      <td>NaN</td>\n",
       "      <td>3</td>\n",
       "      <td>2</td>\n",
       "      <td>3</td>\n",
       "      <td>5</td>\n",
       "      <td>1.0</td>\n",
       "      <td>3</td>\n",
       "      <td>2.0</td>\n",
       "      <td>Good pay, 6 pagers, focus on prioritisation an...</td>\n",
       "      <td>NaN</td>\n",
       "    </tr>\n",
       "    <tr>\n",
       "      <th>10036</th>\n",
       "      <td>Gama</td>\n",
       "      <td>Del</td>\n",
       "      <td>NaN</td>\n",
       "      <td>Policy Department</td>\n",
       "      <td>NaN</td>\n",
       "      <td>3</td>\n",
       "      <td>2</td>\n",
       "      <td>3</td>\n",
       "      <td>5</td>\n",
       "      <td>1.0</td>\n",
       "      <td>3</td>\n",
       "      <td>2.0</td>\n",
       "      <td>Good pay, 6 pagers, focus on prioritisation an...</td>\n",
       "      <td>NaN</td>\n",
       "    </tr>\n",
       "    <tr>\n",
       "      <th>10037</th>\n",
       "      <td>Gama</td>\n",
       "      <td>Del</td>\n",
       "      <td>NaN</td>\n",
       "      <td>Policy Department</td>\n",
       "      <td>NaN</td>\n",
       "      <td>3</td>\n",
       "      <td>2</td>\n",
       "      <td>3</td>\n",
       "      <td>5</td>\n",
       "      <td>1.0</td>\n",
       "      <td>3</td>\n",
       "      <td>2.0</td>\n",
       "      <td>Good pay, 6 pagers, focus on prioritisation an...</td>\n",
       "      <td>NaN</td>\n",
       "    </tr>\n",
       "  </tbody>\n",
       "</table>\n",
       "<p>10038 rows × 14 columns</p>\n",
       "</div>"
      ],
      "text/plain": [
       "                                                  Name     Place1  \\\n",
       "0                        Software Development Engineer  Hyderabad   \n",
       "1                  Dls Case Specialist II HR Assistant  Hyderabad   \n",
       "2      Customer Support Associate   (working remotely)        NaN   \n",
       "3                   Sds Associate   (working remotely)        NaN   \n",
       "4                                   Software Developer  Bengaluru   \n",
       "...                                                ...        ...   \n",
       "10033                                             Gama        Del   \n",
       "10034                                             Gama        Del   \n",
       "10035                                             Gama        Del   \n",
       "10036                                             Gama        Del   \n",
       "10037                                             Gama        Del   \n",
       "\n",
       "                     Place2                       Department Department1  \\\n",
       "0              Secunderabad  Software Development Department         NaN   \n",
       "1              Secunderabad         HR Operations Department         NaN   \n",
       "2                       NaN      Customer Success Department         NaN   \n",
       "3                       NaN             Non Voice Department         NaN   \n",
       "4      Bangalore, Karnataka  Software Development Department         NaN   \n",
       "...                     ...                              ...         ...   \n",
       "10033                   NaN                Policy Department         NaN   \n",
       "10034                   NaN                Policy Department         NaN   \n",
       "10035                   NaN                Policy Department         NaN   \n",
       "10036                   NaN                Policy Department         NaN   \n",
       "10037                   NaN                Policy Department         NaN   \n",
       "\n",
       "      Overall_rating work_life_balance skill_development  salary_and_benefits  \\\n",
       "0                  2                 1                 2                    5   \n",
       "1                  1                 5                 1                    3   \n",
       "2                  1                 2                 1                    2   \n",
       "3                  2                 3                 2                    2   \n",
       "4                NaN                 3                 4                    5   \n",
       "...              ...               ...               ...                  ...   \n",
       "10033              3                 2                 3                    5   \n",
       "10034              3                 2                 3                    5   \n",
       "10035              3                 2                 3                    5   \n",
       "10036              3                 2                 3                    5   \n",
       "10037              3                 2                 3                    5   \n",
       "\n",
       "       job_security  career_growth  work_satisfaction  \\\n",
       "0               1.0              3                3.0   \n",
       "1               1.0              2                1.0   \n",
       "2               1.0              2                NaN   \n",
       "3               2.0              2                NaN   \n",
       "4               3.0              4                NaN   \n",
       "...             ...            ...                ...   \n",
       "10033           1.0              3                2.0   \n",
       "10034           1.0              3                2.0   \n",
       "10035           1.0              3                2.0   \n",
       "10036           1.0              3                2.0   \n",
       "10037           1.0              3                2.0   \n",
       "\n",
       "                                                   Likes  \\\n",
       "0      The office is great and you have best in indus...   \n",
       "1      Good work life balance and team building exerc...   \n",
       "2        good about this company, provides virtual roles   \n",
       "3      Leaves are there but more than policy it will ...   \n",
       "4      Amazon has high standard when it comes to runn...   \n",
       "...                                                  ...   \n",
       "10033  Good pay, 6 pagers, focus on prioritisation an...   \n",
       "10034  Good pay, 6 pagers, focus on prioritisation an...   \n",
       "10035  Good pay, 6 pagers, focus on prioritisation an...   \n",
       "10036  Good pay, 6 pagers, focus on prioritisation an...   \n",
       "10037  Good pay, 6 pagers, focus on prioritisation an...   \n",
       "\n",
       "                                                Dislikes  \n",
       "0      Worst work life balance.\\nThe managers have to...  \n",
       "1      No job security. They will cut you out any-day...  \n",
       "2      this company is really bad , no job security ,...  \n",
       "3      To be honest there are Many consumer team but ...  \n",
       "4              Management layer has lot of redundancies.  \n",
       "...                                                  ...  \n",
       "10033                                                NaN  \n",
       "10034                                                NaN  \n",
       "10035                                                NaN  \n",
       "10036                                                NaN  \n",
       "10037                                                NaN  \n",
       "\n",
       "[10038 rows x 14 columns]"
      ]
     },
     "execution_count": 2,
     "metadata": {},
     "output_type": "execute_result"
    }
   ],
   "source": [
    "AR = pd.read_csv(r\"C:\\Users\\vijay\\OneDrive\\Desktop\\Amazon_Reviews uncleared.csv\") # read the DataFrame\n",
    "AR"
   ]
  },
  {
   "cell_type": "code",
   "execution_count": 3,
   "id": "3b3f4ed4",
   "metadata": {},
   "outputs": [],
   "source": [
    "# The code is using the pandas DataFrame 'AR' and calling the 'rename' method on it to change the name of a column.\n",
    "\n",
    "# The 'columns' parameter is used to specify the renaming operation. It's a dictionary where the keys are\n",
    "#the current column names\n",
    "# and the values are the new column names. In this case, it's renaming the column 'Name' to 'Job Role'.\n",
    "\n",
    "AR.rename(columns={'Name':'Job Role'}, inplace=True)\n",
    "\n",
    "# The 'inplace' parameter is set to 'True', which means the renaming operation is performed directly on the \n",
    "#DataFrame 'AR' without\n",
    "# creating a new DataFrame. If 'inplace' were set to 'False' or omitted (default behavior), a new DataFrame with the \n",
    "#renamed\n",
    "# column would be returned, and the original 'AR' DataFrame would remain unchanged.\n"
   ]
  },
  {
   "cell_type": "code",
   "execution_count": 4,
   "id": "e8a9f883",
   "metadata": {},
   "outputs": [
    {
     "data": {
      "text/plain": [
       "Index(['Job Role', 'Place1', 'Place2', 'Department', 'Department1',\n",
       "       'Overall_rating', 'work_life_balance', 'skill_development',\n",
       "       'salary_and_benefits', 'job_security', 'career_growth',\n",
       "       'work_satisfaction', 'Likes', 'Dislikes'],\n",
       "      dtype='object')"
      ]
     },
     "execution_count": 4,
     "metadata": {},
     "output_type": "execute_result"
    }
   ],
   "source": [
    "AR.columns         # checking the columns in the dataframe"
   ]
  },
  {
   "cell_type": "code",
   "execution_count": 5,
   "id": "f2db9b0f",
   "metadata": {},
   "outputs": [
    {
     "data": {
      "text/plain": [
       "Job Role                object\n",
       "Place1                  object\n",
       "Place2                  object\n",
       "Department              object\n",
       "Department1             object\n",
       "Overall_rating          object\n",
       "work_life_balance       object\n",
       "skill_development       object\n",
       "salary_and_benefits      int64\n",
       "job_security           float64\n",
       "career_growth            int64\n",
       "work_satisfaction      float64\n",
       "Likes                   object\n",
       "Dislikes                object\n",
       "dtype: object"
      ]
     },
     "execution_count": 5,
     "metadata": {},
     "output_type": "execute_result"
    }
   ],
   "source": [
    "AR.dtypes              # checking the datatypes of each column in the dataframe"
   ]
  },
  {
   "cell_type": "code",
   "execution_count": null,
   "id": "f6dc7bee",
   "metadata": {},
   "outputs": [],
   "source": [
    "AR1=AR.copy()        #-----------------Dulpicate dataframe"
   ]
  },
  {
   "cell_type": "code",
   "execution_count": null,
   "id": "5640bedf",
   "metadata": {},
   "outputs": [],
   "source": [
    "AR1"
   ]
  },
  {
   "cell_type": "code",
   "execution_count": null,
   "id": "e8c2f0d6",
   "metadata": {},
   "outputs": [],
   "source": [
    "# Before compare the place1 and place2, we should check the nulls are present or not , Its indicates the location name \n",
    "# only or not and also describe the place1 and place2 , intersection are present or not"
   ]
  },
  {
   "cell_type": "code",
   "execution_count": 6,
   "id": "c92606d1",
   "metadata": {},
   "outputs": [
    {
     "data": {
      "text/plain": [
       "New Delhi               2017\n",
       "Hyderabad               1998\n",
       "Bengaluru               1998\n",
       "Noida                    999\n",
       "Raipur, Chhattisgarh     999\n",
       "Del                       29\n",
       "Name: Place1, dtype: int64"
      ]
     },
     "execution_count": 6,
     "metadata": {},
     "output_type": "execute_result"
    }
   ],
   "source": [
    "AR['Place1'].value_counts() \n",
    "# Calculate and display the count of each unique value in the 'Place1' column of the DataFrame 'AR'.\n",
    "# This is useful for understanding the frequency distribution of values in that column."
   ]
  },
  {
   "cell_type": "code",
   "execution_count": 7,
   "id": "aab15253",
   "metadata": {},
   "outputs": [
    {
     "data": {
      "text/plain": [
       "1998"
      ]
     },
     "execution_count": 7,
     "metadata": {},
     "output_type": "execute_result"
    }
   ],
   "source": [
    "AR['Place1'].isnull().sum()   \n",
    "# Check for missing (null) values in the 'Place1' column of a DataFrame (assuming AR is a DataFrame).\n",
    "# Then, calculate the sum of missing values in that column.\n",
    "# The 'missing_values_count' variable now contains the count of missing values in the 'Place1' column."
   ]
  },
  {
   "cell_type": "code",
   "execution_count": 8,
   "id": "5ce163cd",
   "metadata": {},
   "outputs": [
    {
     "data": {
      "text/plain": [
       "count          8040\n",
       "unique            6\n",
       "top       New Delhi\n",
       "freq           2017\n",
       "Name: Place1, dtype: object"
      ]
     },
     "execution_count": 8,
     "metadata": {},
     "output_type": "execute_result"
    }
   ],
   "source": [
    "# Generate summary statistics for the 'Place1' column in the 'AR' DataFrame or Series\n",
    "AR['Place1'].describe()"
   ]
  },
  {
   "cell_type": "code",
   "execution_count": 9,
   "id": "e1d62d70",
   "metadata": {},
   "outputs": [
    {
     "data": {
      "text/plain": [
       "6"
      ]
     },
     "execution_count": 9,
     "metadata": {},
     "output_type": "execute_result"
    }
   ],
   "source": [
    "# Count the number of unique values in the 'Place1' column of the AR DataFrame (or Series).\n",
    "AR['Place1'].nunique()"
   ]
  },
  {
   "cell_type": "code",
   "execution_count": 10,
   "id": "77cfb11b",
   "metadata": {},
   "outputs": [
    {
     "data": {
      "text/plain": [
       "Secunderabad            1998\n",
       "Bangalore, Karnataka     999\n",
       "Bangalore                999\n",
       "Name: Place2, dtype: int64"
      ]
     },
     "execution_count": 10,
     "metadata": {},
     "output_type": "execute_result"
    }
   ],
   "source": [
    "AR['Place2'].value_counts()"
   ]
  },
  {
   "cell_type": "code",
   "execution_count": 11,
   "id": "54c7bdce",
   "metadata": {},
   "outputs": [
    {
     "data": {
      "text/plain": [
       "6042"
      ]
     },
     "execution_count": 11,
     "metadata": {},
     "output_type": "execute_result"
    }
   ],
   "source": [
    "AR['Place2'].isna().sum()"
   ]
  },
  {
   "cell_type": "code",
   "execution_count": 12,
   "id": "a4b47a43",
   "metadata": {},
   "outputs": [
    {
     "data": {
      "text/plain": [
       "count             3996\n",
       "unique               3\n",
       "top       Secunderabad\n",
       "freq              1998\n",
       "Name: Place2, dtype: object"
      ]
     },
     "execution_count": 12,
     "metadata": {},
     "output_type": "execute_result"
    }
   ],
   "source": [
    "AR['Place2'].describe()"
   ]
  },
  {
   "cell_type": "code",
   "execution_count": null,
   "id": "712173a7",
   "metadata": {},
   "outputs": [],
   "source": [
    "AR['Place2'].nunique()"
   ]
  },
  {
   "cell_type": "code",
   "execution_count": 13,
   "id": "4421abae",
   "metadata": {},
   "outputs": [
    {
     "data": {
      "text/plain": [
       "{nan}"
      ]
     },
     "execution_count": 13,
     "metadata": {},
     "output_type": "execute_result"
    }
   ],
   "source": [
    "set(AR['Place1']).intersection(AR['Place2'])\n",
    "# Find the intersection of two sets in Python\n",
    "# Sets are unordered collections of unique elements.\n",
    "\n",
    "# Assuming AR is a dictionary or data structure with keys 'Place1' and 'Place2',\n",
    "# and the values associated with these keys are sets.\n",
    "\n",
    "# The code calculates the intersection of the sets associated with 'Place1' and 'Place2' keys in AR.\n",
    "\n",
    "# Example:\n",
    "# If AR['Place1'] = {1, 2, 3} and AR['Place2'] = {2, 3, 4}, then the result would be {2, 3},\n",
    "# because those are the common elements between the two sets.\n",
    "\n"
   ]
  },
  {
   "cell_type": "code",
   "execution_count": 14,
   "id": "f836cc77",
   "metadata": {},
   "outputs": [
    {
     "data": {
      "text/plain": [
       "New Delhi               2046\n",
       "Hyderabad               1998\n",
       "Bengaluru               1998\n",
       "Noida                    999\n",
       "Raipur, Chhattisgarh     999\n",
       "Name: Place1, dtype: int64"
      ]
     },
     "execution_count": 14,
     "metadata": {},
     "output_type": "execute_result"
    }
   ],
   "source": [
    "AR['Place1'].replace('Del','New Delhi',inplace= True) \n",
    "\n",
    "# Replace all occurrences of 'Del' with 'New Delhi' in the 'Place1' column of the Pandas DataFrame AR.\n",
    "\n",
    "AR['Place1'].value_counts()"
   ]
  },
  {
   "cell_type": "code",
   "execution_count": 15,
   "id": "d3d77f3b",
   "metadata": {},
   "outputs": [],
   "source": [
    "AR['Place2'].replace('Bangalore, Karnataka','Bengaluru',inplace=True)\n",
    "AR['Place2'].replace('Bangalore','Bengaluru',inplace=True)"
   ]
  },
  {
   "cell_type": "code",
   "execution_count": 16,
   "id": "428635f4",
   "metadata": {},
   "outputs": [],
   "source": [
    "AR['Place2'].replace('Secunderabad','Hyderabad',inplace=True)"
   ]
  },
  {
   "cell_type": "code",
   "execution_count": 17,
   "id": "808ea8df",
   "metadata": {},
   "outputs": [
    {
     "data": {
      "text/plain": [
       "Hyderabad    1998\n",
       "Bengaluru    1998\n",
       "Name: Place2, dtype: int64"
      ]
     },
     "execution_count": 17,
     "metadata": {},
     "output_type": "execute_result"
    }
   ],
   "source": [
    "AR['Place2'].value_counts()"
   ]
  },
  {
   "cell_type": "code",
   "execution_count": 20,
   "id": "6416fa6c",
   "metadata": {},
   "outputs": [
    {
     "data": {
      "text/plain": [
       "0"
      ]
     },
     "execution_count": 20,
     "metadata": {},
     "output_type": "execute_result"
    }
   ],
   "source": [
    "# Fill missing (NaN) values in the 'Place2' column of the 'AR' DataFrame with a space (' ')\n",
    "# The 'inplace=True' argument means the changes will be applied directly to the DataFrame 'AR'\n",
    "# This operation replaces any NaN (null) values in 'Place2' with a space character.\n",
    "AR['Place2'].fillna(' ',inplace=True)\n",
    "AR['Place2'].isna().sum()"
   ]
  },
  {
   "cell_type": "code",
   "execution_count": 21,
   "id": "5711b008",
   "metadata": {},
   "outputs": [],
   "source": [
    "# Assuming AR is a DataFrame, this line combines two columns ('Place1' and 'Place2') into a new column 'Place'.\n",
    "AR['Place'] = AR['Place1'] + ' ' + AR['Place2']"
   ]
  },
  {
   "cell_type": "code",
   "execution_count": 22,
   "id": "8d4c2711",
   "metadata": {},
   "outputs": [
    {
     "data": {
      "text/plain": [
       "New Delhi                 2046\n",
       "Hyderabad Hyderabad       1998\n",
       "Bengaluru Bengaluru       1998\n",
       "Noida                      999\n",
       "Raipur, Chhattisgarh       999\n",
       "Name: Place, dtype: int64"
      ]
     },
     "execution_count": 22,
     "metadata": {},
     "output_type": "execute_result"
    }
   ],
   "source": [
    "AR['Place2'].fillna(' ',inplace=True)\n",
    "AR['Place'].value_counts()"
   ]
  },
  {
   "cell_type": "code",
   "execution_count": 23,
   "id": "0bd68b19",
   "metadata": {},
   "outputs": [],
   "source": [
    "AR.drop('Place',axis=1,inplace=True)\n",
    "# The 'drop' method is used to remove a specific column from the DataFrame.\n",
    "\n",
    "# 'Place' is the name of the column to be removed. It will be dropped from the DataFrame.\n",
    "\n",
    "# The 'axis' parameter is set to 1, indicating that we want to drop a column (axis=1).\n",
    "# If 'axis' was set to 0, it would mean dropping a row.\n",
    "\n",
    "# The 'inplace' parameter is set to True, which means that the DataFrame is modified in place,\n",
    "# and the original DataFrame is altered. If 'inplace' was set to False (or not provided),\n",
    "# a new DataFrame with the column dropped would be returned, leaving the original DataFrame unchanged.\n",
    "\n",
    "# After executing this line of code, the 'Place' column will be removed from the DataFrame 'AR'.\n"
   ]
  },
  {
   "cell_type": "code",
   "execution_count": 24,
   "id": "7c93c7f5",
   "metadata": {
    "scrolled": true
   },
   "outputs": [],
   "source": [
    "AR.drop('Place2',axis=1,inplace=True)"
   ]
  },
  {
   "cell_type": "code",
   "execution_count": 25,
   "id": "69004c89",
   "metadata": {},
   "outputs": [
    {
     "data": {
      "text/plain": [
       "Index(['Job Role', 'Place1', 'Department', 'Department1', 'Overall_rating',\n",
       "       'work_life_balance', 'skill_development', 'salary_and_benefits',\n",
       "       'job_security', 'career_growth', 'work_satisfaction', 'Likes',\n",
       "       'Dislikes'],\n",
       "      dtype='object')"
      ]
     },
     "execution_count": 25,
     "metadata": {},
     "output_type": "execute_result"
    }
   ],
   "source": [
    "AR.columns"
   ]
  },
  {
   "cell_type": "code",
   "execution_count": 26,
   "id": "94933cc1",
   "metadata": {},
   "outputs": [],
   "source": [
    "AR.rename(columns={'Place1':'Place'},inplace=True)"
   ]
  },
  {
   "cell_type": "code",
   "execution_count": 27,
   "id": "467d0e8c",
   "metadata": {},
   "outputs": [
    {
     "data": {
      "text/plain": [
       "0"
      ]
     },
     "execution_count": 27,
     "metadata": {},
     "output_type": "execute_result"
    }
   ],
   "source": [
    "AR['Job Role'].isna().sum()\n"
   ]
  },
  {
   "cell_type": "code",
   "execution_count": 28,
   "id": "c883e679",
   "metadata": {},
   "outputs": [
    {
     "data": {
      "text/plain": [
       "Software Development Engineer                                                  999\n",
       "Dls Case Specialist II HR Assistant                                            999\n",
       "Customer Support Associate   (working remotely)                                999\n",
       "Sds Associate   (working remotely)                                             999\n",
       "Software Developer                                                             999\n",
       "Senior Associate -Supply Chain Operations-forecast And Operational Planning    999\n",
       "Regional Manager Ehs                                                           999\n",
       "Associate Executive                                                            999\n",
       "Process Associate                                                              999\n",
       "Manager                                                                        999\n",
       "Gama                                                                            26\n",
       "Mana                                                                            22\n",
       "Name: Job Role, dtype: int64"
      ]
     },
     "execution_count": 28,
     "metadata": {},
     "output_type": "execute_result"
    }
   ],
   "source": [
    "AR['Job Role'].value_counts()"
   ]
  },
  {
   "cell_type": "code",
   "execution_count": null,
   "id": "189fe28c",
   "metadata": {},
   "outputs": [],
   "source": [
    "AR[AR['Job Role']=='Gama'].index"
   ]
  },
  {
   "cell_type": "code",
   "execution_count": 29,
   "id": "c63357e2",
   "metadata": {},
   "outputs": [],
   "source": [
    "AR.drop(AR[AR['Job Role']=='Gama'].index, inplace=True )   #-------------Delete the value 'Gama' in Name column"
   ]
  },
  {
   "cell_type": "code",
   "execution_count": 30,
   "id": "f651cd00",
   "metadata": {
    "scrolled": true
   },
   "outputs": [
    {
     "data": {
      "text/plain": [
       "Software Development Engineer                                                  999\n",
       "Dls Case Specialist II HR Assistant                                            999\n",
       "Customer Support Associate   (working remotely)                                999\n",
       "Sds Associate   (working remotely)                                             999\n",
       "Software Developer                                                             999\n",
       "Senior Associate -Supply Chain Operations-forecast And Operational Planning    999\n",
       "Regional Manager Ehs                                                           999\n",
       "Associate Executive                                                            999\n",
       "Process Associate                                                              999\n",
       "Manager                                                                        999\n",
       "Mana                                                                            22\n",
       "Name: Job Role, dtype: int64"
      ]
     },
     "execution_count": 30,
     "metadata": {},
     "output_type": "execute_result"
    }
   ],
   "source": [
    "AR['Job Role'].value_counts()"
   ]
  },
  {
   "cell_type": "code",
   "execution_count": 31,
   "id": "ded60470",
   "metadata": {},
   "outputs": [],
   "source": [
    "AR.drop(AR[AR['Job Role']=='Mana'].index, inplace=True )"
   ]
  },
  {
   "cell_type": "code",
   "execution_count": 32,
   "id": "205664f6",
   "metadata": {},
   "outputs": [
    {
     "data": {
      "text/plain": [
       "Software Development Engineer                                                  999\n",
       "Dls Case Specialist II HR Assistant                                            999\n",
       "Customer Support Associate   (working remotely)                                999\n",
       "Sds Associate   (working remotely)                                             999\n",
       "Software Developer                                                             999\n",
       "Senior Associate -Supply Chain Operations-forecast And Operational Planning    999\n",
       "Regional Manager Ehs                                                           999\n",
       "Associate Executive                                                            999\n",
       "Process Associate                                                              999\n",
       "Manager                                                                        999\n",
       "Name: Job Role, dtype: int64"
      ]
     },
     "execution_count": 32,
     "metadata": {},
     "output_type": "execute_result"
    }
   ],
   "source": [
    "AR['Job Role'].value_counts()"
   ]
  },
  {
   "cell_type": "code",
   "execution_count": 33,
   "id": "e992d8f4",
   "metadata": {},
   "outputs": [
    {
     "data": {
      "text/html": [
       "<div>\n",
       "<style scoped>\n",
       "    .dataframe tbody tr th:only-of-type {\n",
       "        vertical-align: middle;\n",
       "    }\n",
       "\n",
       "    .dataframe tbody tr th {\n",
       "        vertical-align: top;\n",
       "    }\n",
       "\n",
       "    .dataframe thead th {\n",
       "        text-align: right;\n",
       "    }\n",
       "</style>\n",
       "<table border=\"1\" class=\"dataframe\">\n",
       "  <thead>\n",
       "    <tr style=\"text-align: right;\">\n",
       "      <th></th>\n",
       "      <th>index</th>\n",
       "      <th>Job Role</th>\n",
       "      <th>Place</th>\n",
       "      <th>Department</th>\n",
       "      <th>Department1</th>\n",
       "      <th>Overall_rating</th>\n",
       "      <th>work_life_balance</th>\n",
       "      <th>skill_development</th>\n",
       "      <th>salary_and_benefits</th>\n",
       "      <th>job_security</th>\n",
       "      <th>career_growth</th>\n",
       "      <th>work_satisfaction</th>\n",
       "      <th>Likes</th>\n",
       "      <th>Dislikes</th>\n",
       "    </tr>\n",
       "  </thead>\n",
       "  <tbody>\n",
       "    <tr>\n",
       "      <th>0</th>\n",
       "      <td>0</td>\n",
       "      <td>Software Development Engineer</td>\n",
       "      <td>Hyderabad</td>\n",
       "      <td>Software Development Department</td>\n",
       "      <td>NaN</td>\n",
       "      <td>2</td>\n",
       "      <td>1</td>\n",
       "      <td>2</td>\n",
       "      <td>5</td>\n",
       "      <td>1.0</td>\n",
       "      <td>3</td>\n",
       "      <td>3.0</td>\n",
       "      <td>The office is great and you have best in indus...</td>\n",
       "      <td>Worst work life balance.\\nThe managers have to...</td>\n",
       "    </tr>\n",
       "    <tr>\n",
       "      <th>1</th>\n",
       "      <td>1</td>\n",
       "      <td>Dls Case Specialist II HR Assistant</td>\n",
       "      <td>Hyderabad</td>\n",
       "      <td>HR Operations Department</td>\n",
       "      <td>NaN</td>\n",
       "      <td>1</td>\n",
       "      <td>5</td>\n",
       "      <td>1</td>\n",
       "      <td>3</td>\n",
       "      <td>1.0</td>\n",
       "      <td>2</td>\n",
       "      <td>1.0</td>\n",
       "      <td>Good work life balance and team building exerc...</td>\n",
       "      <td>No job security. They will cut you out any-day...</td>\n",
       "    </tr>\n",
       "    <tr>\n",
       "      <th>2</th>\n",
       "      <td>2</td>\n",
       "      <td>Customer Support Associate   (working remotely)</td>\n",
       "      <td>NaN</td>\n",
       "      <td>Customer Success Department</td>\n",
       "      <td>NaN</td>\n",
       "      <td>1</td>\n",
       "      <td>2</td>\n",
       "      <td>1</td>\n",
       "      <td>2</td>\n",
       "      <td>1.0</td>\n",
       "      <td>2</td>\n",
       "      <td>NaN</td>\n",
       "      <td>good about this company, provides virtual roles</td>\n",
       "      <td>this company is really bad , no job security ,...</td>\n",
       "    </tr>\n",
       "    <tr>\n",
       "      <th>3</th>\n",
       "      <td>3</td>\n",
       "      <td>Sds Associate   (working remotely)</td>\n",
       "      <td>NaN</td>\n",
       "      <td>Non Voice Department</td>\n",
       "      <td>NaN</td>\n",
       "      <td>2</td>\n",
       "      <td>3</td>\n",
       "      <td>2</td>\n",
       "      <td>2</td>\n",
       "      <td>2.0</td>\n",
       "      <td>2</td>\n",
       "      <td>NaN</td>\n",
       "      <td>Leaves are there but more than policy it will ...</td>\n",
       "      <td>To be honest there are Many consumer team but ...</td>\n",
       "    </tr>\n",
       "    <tr>\n",
       "      <th>4</th>\n",
       "      <td>4</td>\n",
       "      <td>Software Developer</td>\n",
       "      <td>Bengaluru</td>\n",
       "      <td>Software Development Department</td>\n",
       "      <td>NaN</td>\n",
       "      <td>NaN</td>\n",
       "      <td>3</td>\n",
       "      <td>4</td>\n",
       "      <td>5</td>\n",
       "      <td>3.0</td>\n",
       "      <td>4</td>\n",
       "      <td>NaN</td>\n",
       "      <td>Amazon has high standard when it comes to runn...</td>\n",
       "      <td>Management layer has lot of redundancies.</td>\n",
       "    </tr>\n",
       "    <tr>\n",
       "      <th>...</th>\n",
       "      <td>...</td>\n",
       "      <td>...</td>\n",
       "      <td>...</td>\n",
       "      <td>...</td>\n",
       "      <td>...</td>\n",
       "      <td>...</td>\n",
       "      <td>...</td>\n",
       "      <td>...</td>\n",
       "      <td>...</td>\n",
       "      <td>...</td>\n",
       "      <td>...</td>\n",
       "      <td>...</td>\n",
       "      <td>...</td>\n",
       "      <td>...</td>\n",
       "    </tr>\n",
       "    <tr>\n",
       "      <th>9985</th>\n",
       "      <td>9985</td>\n",
       "      <td>Senior Associate -Supply Chain Operations-fore...</td>\n",
       "      <td>Bengaluru</td>\n",
       "      <td>Operations Department</td>\n",
       "      <td>NaN</td>\n",
       "      <td>3</td>\n",
       "      <td>2</td>\n",
       "      <td>1</td>\n",
       "      <td>4</td>\n",
       "      <td>4.0</td>\n",
       "      <td>4</td>\n",
       "      <td>1.0</td>\n",
       "      <td>People from IIMs and ISBs only have the opport...</td>\n",
       "      <td>Less visibility for next level and promotions ...</td>\n",
       "    </tr>\n",
       "    <tr>\n",
       "      <th>9986</th>\n",
       "      <td>9986</td>\n",
       "      <td>Regional Manager Ehs</td>\n",
       "      <td>New Delhi</td>\n",
       "      <td>Occupational Health &amp; Safety Department</td>\n",
       "      <td>NaN</td>\n",
       "      <td>2</td>\n",
       "      <td>2</td>\n",
       "      <td>3</td>\n",
       "      <td>3</td>\n",
       "      <td>2.0</td>\n",
       "      <td>2</td>\n",
       "      <td>2.0</td>\n",
       "      <td>Amazon give opportunity for promoting your tho...</td>\n",
       "      <td>Amazon has adopted giving responsibility of Wo...</td>\n",
       "    </tr>\n",
       "    <tr>\n",
       "      <th>9987</th>\n",
       "      <td>9987</td>\n",
       "      <td>Associate Executive</td>\n",
       "      <td>Noida</td>\n",
       "      <td>Customer Success Department</td>\n",
       "      <td>NaN</td>\n",
       "      <td>1</td>\n",
       "      <td>2</td>\n",
       "      <td>1</td>\n",
       "      <td>2</td>\n",
       "      <td>1.0</td>\n",
       "      <td>1</td>\n",
       "      <td>1.0</td>\n",
       "      <td>Nothing</td>\n",
       "      <td>It was a terrible experience working with amaz...</td>\n",
       "    </tr>\n",
       "    <tr>\n",
       "      <th>9988</th>\n",
       "      <td>9988</td>\n",
       "      <td>Process Associate</td>\n",
       "      <td>Raipur, Chhattisgarh</td>\n",
       "      <td>Voice</td>\n",
       "      <td>Blended Department</td>\n",
       "      <td>5</td>\n",
       "      <td>4</td>\n",
       "      <td>5</td>\n",
       "      <td>4</td>\n",
       "      <td>5.0</td>\n",
       "      <td>5</td>\n",
       "      <td>5.0</td>\n",
       "      <td>Amazon marketplace genuine customer service su...</td>\n",
       "      <td>Logistics supply management application operat...</td>\n",
       "    </tr>\n",
       "    <tr>\n",
       "      <th>9989</th>\n",
       "      <td>9989</td>\n",
       "      <td>Manager</td>\n",
       "      <td>New Delhi</td>\n",
       "      <td>Policy Department</td>\n",
       "      <td>NaN</td>\n",
       "      <td>3</td>\n",
       "      <td>2</td>\n",
       "      <td>3</td>\n",
       "      <td>5</td>\n",
       "      <td>1.0</td>\n",
       "      <td>3</td>\n",
       "      <td>2.0</td>\n",
       "      <td>Good pay, 6 pagers, focus on prioritisation an...</td>\n",
       "      <td>Toxic culture (but that will depend on your te...</td>\n",
       "    </tr>\n",
       "  </tbody>\n",
       "</table>\n",
       "<p>9990 rows × 14 columns</p>\n",
       "</div>"
      ],
      "text/plain": [
       "      index                                           Job Role  \\\n",
       "0         0                      Software Development Engineer   \n",
       "1         1                Dls Case Specialist II HR Assistant   \n",
       "2         2    Customer Support Associate   (working remotely)   \n",
       "3         3                 Sds Associate   (working remotely)   \n",
       "4         4                                 Software Developer   \n",
       "...     ...                                                ...   \n",
       "9985   9985  Senior Associate -Supply Chain Operations-fore...   \n",
       "9986   9986                               Regional Manager Ehs   \n",
       "9987   9987                                Associate Executive   \n",
       "9988   9988                                  Process Associate   \n",
       "9989   9989                                            Manager   \n",
       "\n",
       "                     Place                               Department  \\\n",
       "0                Hyderabad          Software Development Department   \n",
       "1                Hyderabad                 HR Operations Department   \n",
       "2                      NaN              Customer Success Department   \n",
       "3                      NaN                     Non Voice Department   \n",
       "4                Bengaluru          Software Development Department   \n",
       "...                    ...                                      ...   \n",
       "9985             Bengaluru                    Operations Department   \n",
       "9986             New Delhi  Occupational Health & Safety Department   \n",
       "9987                 Noida              Customer Success Department   \n",
       "9988  Raipur, Chhattisgarh                                   Voice    \n",
       "9989             New Delhi                        Policy Department   \n",
       "\n",
       "              Department1 Overall_rating work_life_balance skill_development  \\\n",
       "0                     NaN              2                 1                 2   \n",
       "1                     NaN              1                 5                 1   \n",
       "2                     NaN              1                 2                 1   \n",
       "3                     NaN              2                 3                 2   \n",
       "4                     NaN            NaN                 3                 4   \n",
       "...                   ...            ...               ...               ...   \n",
       "9985                  NaN              3                 2                 1   \n",
       "9986                  NaN              2                 2                 3   \n",
       "9987                  NaN              1                 2                 1   \n",
       "9988   Blended Department              5                 4                 5   \n",
       "9989                  NaN              3                 2                 3   \n",
       "\n",
       "      salary_and_benefits  job_security  career_growth  work_satisfaction  \\\n",
       "0                       5           1.0              3                3.0   \n",
       "1                       3           1.0              2                1.0   \n",
       "2                       2           1.0              2                NaN   \n",
       "3                       2           2.0              2                NaN   \n",
       "4                       5           3.0              4                NaN   \n",
       "...                   ...           ...            ...                ...   \n",
       "9985                    4           4.0              4                1.0   \n",
       "9986                    3           2.0              2                2.0   \n",
       "9987                    2           1.0              1                1.0   \n",
       "9988                    4           5.0              5                5.0   \n",
       "9989                    5           1.0              3                2.0   \n",
       "\n",
       "                                                  Likes  \\\n",
       "0     The office is great and you have best in indus...   \n",
       "1     Good work life balance and team building exerc...   \n",
       "2       good about this company, provides virtual roles   \n",
       "3     Leaves are there but more than policy it will ...   \n",
       "4     Amazon has high standard when it comes to runn...   \n",
       "...                                                 ...   \n",
       "9985  People from IIMs and ISBs only have the opport...   \n",
       "9986  Amazon give opportunity for promoting your tho...   \n",
       "9987                                            Nothing   \n",
       "9988  Amazon marketplace genuine customer service su...   \n",
       "9989  Good pay, 6 pagers, focus on prioritisation an...   \n",
       "\n",
       "                                               Dislikes  \n",
       "0     Worst work life balance.\\nThe managers have to...  \n",
       "1     No job security. They will cut you out any-day...  \n",
       "2     this company is really bad , no job security ,...  \n",
       "3     To be honest there are Many consumer team but ...  \n",
       "4             Management layer has lot of redundancies.  \n",
       "...                                                 ...  \n",
       "9985  Less visibility for next level and promotions ...  \n",
       "9986  Amazon has adopted giving responsibility of Wo...  \n",
       "9987  It was a terrible experience working with amaz...  \n",
       "9988  Logistics supply management application operat...  \n",
       "9989  Toxic culture (but that will depend on your te...  \n",
       "\n",
       "[9990 rows x 14 columns]"
      ]
     },
     "execution_count": 33,
     "metadata": {},
     "output_type": "execute_result"
    }
   ],
   "source": [
    "AR.reset_index()   \n",
    "# AR is assumed to be a Pandas DataFrame object.\n",
    "# The reset_index() method is being called on this DataFrame.\n",
    "\n",
    "# The reset_index() method is used to reset the index of the DataFrame.\n",
    "# When data is manipulated or filtered in Pandas, the original index may become unordered or altered.\n",
    "# This method reverts the index to its default integer-based index.\n",
    "\n",
    "# It creates a new DataFrame with the original index reset, and the old index becomes a new column in the DataFrame.\n",
    "\n",
    "# If you want to modify the original DataFrame in-place, you can use the 'inplace=True' parameter like this:\n",
    "# AR.reset_index(inplace=True)\n",
    "\n",
    "# If you want to drop the old index column when resetting the index, you can use the 'drop=True' parameter like this:\n",
    "# AR.reset_index(drop=True)\n"
   ]
  },
  {
   "cell_type": "code",
   "execution_count": 35,
   "id": "ee20d99a",
   "metadata": {},
   "outputs": [
    {
     "data": {
      "text/html": [
       "<div>\n",
       "<style scoped>\n",
       "    .dataframe tbody tr th:only-of-type {\n",
       "        vertical-align: middle;\n",
       "    }\n",
       "\n",
       "    .dataframe tbody tr th {\n",
       "        vertical-align: top;\n",
       "    }\n",
       "\n",
       "    .dataframe thead th {\n",
       "        text-align: right;\n",
       "    }\n",
       "</style>\n",
       "<table border=\"1\" class=\"dataframe\">\n",
       "  <thead>\n",
       "    <tr style=\"text-align: right;\">\n",
       "      <th></th>\n",
       "      <th>Job Role</th>\n",
       "      <th>Place</th>\n",
       "      <th>Department</th>\n",
       "      <th>Department1</th>\n",
       "      <th>Overall_rating</th>\n",
       "      <th>work_life_balance</th>\n",
       "      <th>skill_development</th>\n",
       "      <th>salary_and_benefits</th>\n",
       "      <th>job_security</th>\n",
       "      <th>career_growth</th>\n",
       "      <th>work_satisfaction</th>\n",
       "      <th>Likes</th>\n",
       "      <th>Dislikes</th>\n",
       "    </tr>\n",
       "  </thead>\n",
       "  <tbody>\n",
       "    <tr>\n",
       "      <th>0</th>\n",
       "      <td>Software Development Engineer</td>\n",
       "      <td>Hyderabad</td>\n",
       "      <td>Software Development Department</td>\n",
       "      <td>NaN</td>\n",
       "      <td>2</td>\n",
       "      <td>1</td>\n",
       "      <td>2</td>\n",
       "      <td>5</td>\n",
       "      <td>1.0</td>\n",
       "      <td>3</td>\n",
       "      <td>3.0</td>\n",
       "      <td>The office is great and you have best in indus...</td>\n",
       "      <td>Worst work life balance.\\nThe managers have to...</td>\n",
       "    </tr>\n",
       "    <tr>\n",
       "      <th>1</th>\n",
       "      <td>Dls Case Specialist II HR Assistant</td>\n",
       "      <td>Hyderabad</td>\n",
       "      <td>HR Operations Department</td>\n",
       "      <td>NaN</td>\n",
       "      <td>1</td>\n",
       "      <td>5</td>\n",
       "      <td>1</td>\n",
       "      <td>3</td>\n",
       "      <td>1.0</td>\n",
       "      <td>2</td>\n",
       "      <td>1.0</td>\n",
       "      <td>Good work life balance and team building exerc...</td>\n",
       "      <td>No job security. They will cut you out any-day...</td>\n",
       "    </tr>\n",
       "    <tr>\n",
       "      <th>2</th>\n",
       "      <td>Customer Support Associate   (working remotely)</td>\n",
       "      <td>NaN</td>\n",
       "      <td>Customer Success Department</td>\n",
       "      <td>NaN</td>\n",
       "      <td>1</td>\n",
       "      <td>2</td>\n",
       "      <td>1</td>\n",
       "      <td>2</td>\n",
       "      <td>1.0</td>\n",
       "      <td>2</td>\n",
       "      <td>NaN</td>\n",
       "      <td>good about this company, provides virtual roles</td>\n",
       "      <td>this company is really bad , no job security ,...</td>\n",
       "    </tr>\n",
       "    <tr>\n",
       "      <th>3</th>\n",
       "      <td>Sds Associate   (working remotely)</td>\n",
       "      <td>NaN</td>\n",
       "      <td>Non Voice Department</td>\n",
       "      <td>NaN</td>\n",
       "      <td>2</td>\n",
       "      <td>3</td>\n",
       "      <td>2</td>\n",
       "      <td>2</td>\n",
       "      <td>2.0</td>\n",
       "      <td>2</td>\n",
       "      <td>NaN</td>\n",
       "      <td>Leaves are there but more than policy it will ...</td>\n",
       "      <td>To be honest there are Many consumer team but ...</td>\n",
       "    </tr>\n",
       "    <tr>\n",
       "      <th>4</th>\n",
       "      <td>Software Developer</td>\n",
       "      <td>Bengaluru</td>\n",
       "      <td>Software Development Department</td>\n",
       "      <td>NaN</td>\n",
       "      <td>NaN</td>\n",
       "      <td>3</td>\n",
       "      <td>4</td>\n",
       "      <td>5</td>\n",
       "      <td>3.0</td>\n",
       "      <td>4</td>\n",
       "      <td>NaN</td>\n",
       "      <td>Amazon has high standard when it comes to runn...</td>\n",
       "      <td>Management layer has lot of redundancies.</td>\n",
       "    </tr>\n",
       "    <tr>\n",
       "      <th>...</th>\n",
       "      <td>...</td>\n",
       "      <td>...</td>\n",
       "      <td>...</td>\n",
       "      <td>...</td>\n",
       "      <td>...</td>\n",
       "      <td>...</td>\n",
       "      <td>...</td>\n",
       "      <td>...</td>\n",
       "      <td>...</td>\n",
       "      <td>...</td>\n",
       "      <td>...</td>\n",
       "      <td>...</td>\n",
       "      <td>...</td>\n",
       "    </tr>\n",
       "    <tr>\n",
       "      <th>9985</th>\n",
       "      <td>Senior Associate -Supply Chain Operations-fore...</td>\n",
       "      <td>Bengaluru</td>\n",
       "      <td>Operations Department</td>\n",
       "      <td>NaN</td>\n",
       "      <td>3</td>\n",
       "      <td>2</td>\n",
       "      <td>1</td>\n",
       "      <td>4</td>\n",
       "      <td>4.0</td>\n",
       "      <td>4</td>\n",
       "      <td>1.0</td>\n",
       "      <td>People from IIMs and ISBs only have the opport...</td>\n",
       "      <td>Less visibility for next level and promotions ...</td>\n",
       "    </tr>\n",
       "    <tr>\n",
       "      <th>9986</th>\n",
       "      <td>Regional Manager Ehs</td>\n",
       "      <td>New Delhi</td>\n",
       "      <td>Occupational Health &amp; Safety Department</td>\n",
       "      <td>NaN</td>\n",
       "      <td>2</td>\n",
       "      <td>2</td>\n",
       "      <td>3</td>\n",
       "      <td>3</td>\n",
       "      <td>2.0</td>\n",
       "      <td>2</td>\n",
       "      <td>2.0</td>\n",
       "      <td>Amazon give opportunity for promoting your tho...</td>\n",
       "      <td>Amazon has adopted giving responsibility of Wo...</td>\n",
       "    </tr>\n",
       "    <tr>\n",
       "      <th>9987</th>\n",
       "      <td>Associate Executive</td>\n",
       "      <td>Noida</td>\n",
       "      <td>Customer Success Department</td>\n",
       "      <td>NaN</td>\n",
       "      <td>1</td>\n",
       "      <td>2</td>\n",
       "      <td>1</td>\n",
       "      <td>2</td>\n",
       "      <td>1.0</td>\n",
       "      <td>1</td>\n",
       "      <td>1.0</td>\n",
       "      <td>Nothing</td>\n",
       "      <td>It was a terrible experience working with amaz...</td>\n",
       "    </tr>\n",
       "    <tr>\n",
       "      <th>9988</th>\n",
       "      <td>Process Associate</td>\n",
       "      <td>Raipur, Chhattisgarh</td>\n",
       "      <td>Voice</td>\n",
       "      <td>Blended Department</td>\n",
       "      <td>5</td>\n",
       "      <td>4</td>\n",
       "      <td>5</td>\n",
       "      <td>4</td>\n",
       "      <td>5.0</td>\n",
       "      <td>5</td>\n",
       "      <td>5.0</td>\n",
       "      <td>Amazon marketplace genuine customer service su...</td>\n",
       "      <td>Logistics supply management application operat...</td>\n",
       "    </tr>\n",
       "    <tr>\n",
       "      <th>9989</th>\n",
       "      <td>Manager</td>\n",
       "      <td>New Delhi</td>\n",
       "      <td>Policy Department</td>\n",
       "      <td>NaN</td>\n",
       "      <td>3</td>\n",
       "      <td>2</td>\n",
       "      <td>3</td>\n",
       "      <td>5</td>\n",
       "      <td>1.0</td>\n",
       "      <td>3</td>\n",
       "      <td>2.0</td>\n",
       "      <td>Good pay, 6 pagers, focus on prioritisation an...</td>\n",
       "      <td>Toxic culture (but that will depend on your te...</td>\n",
       "    </tr>\n",
       "  </tbody>\n",
       "</table>\n",
       "<p>9990 rows × 13 columns</p>\n",
       "</div>"
      ],
      "text/plain": [
       "                                               Job Role                 Place  \\\n",
       "0                         Software Development Engineer             Hyderabad   \n",
       "1                   Dls Case Specialist II HR Assistant             Hyderabad   \n",
       "2       Customer Support Associate   (working remotely)                   NaN   \n",
       "3                    Sds Associate   (working remotely)                   NaN   \n",
       "4                                    Software Developer             Bengaluru   \n",
       "...                                                 ...                   ...   \n",
       "9985  Senior Associate -Supply Chain Operations-fore...             Bengaluru   \n",
       "9986                               Regional Manager Ehs             New Delhi   \n",
       "9987                                Associate Executive                 Noida   \n",
       "9988                                  Process Associate  Raipur, Chhattisgarh   \n",
       "9989                                            Manager             New Delhi   \n",
       "\n",
       "                                   Department          Department1  \\\n",
       "0             Software Development Department                  NaN   \n",
       "1                    HR Operations Department                  NaN   \n",
       "2                 Customer Success Department                  NaN   \n",
       "3                        Non Voice Department                  NaN   \n",
       "4             Software Development Department                  NaN   \n",
       "...                                       ...                  ...   \n",
       "9985                    Operations Department                  NaN   \n",
       "9986  Occupational Health & Safety Department                  NaN   \n",
       "9987              Customer Success Department                  NaN   \n",
       "9988                                   Voice    Blended Department   \n",
       "9989                        Policy Department                  NaN   \n",
       "\n",
       "     Overall_rating work_life_balance skill_development  salary_and_benefits  \\\n",
       "0                 2                 1                 2                    5   \n",
       "1                 1                 5                 1                    3   \n",
       "2                 1                 2                 1                    2   \n",
       "3                 2                 3                 2                    2   \n",
       "4               NaN                 3                 4                    5   \n",
       "...             ...               ...               ...                  ...   \n",
       "9985              3                 2                 1                    4   \n",
       "9986              2                 2                 3                    3   \n",
       "9987              1                 2                 1                    2   \n",
       "9988              5                 4                 5                    4   \n",
       "9989              3                 2                 3                    5   \n",
       "\n",
       "      job_security  career_growth  work_satisfaction  \\\n",
       "0              1.0              3                3.0   \n",
       "1              1.0              2                1.0   \n",
       "2              1.0              2                NaN   \n",
       "3              2.0              2                NaN   \n",
       "4              3.0              4                NaN   \n",
       "...            ...            ...                ...   \n",
       "9985           4.0              4                1.0   \n",
       "9986           2.0              2                2.0   \n",
       "9987           1.0              1                1.0   \n",
       "9988           5.0              5                5.0   \n",
       "9989           1.0              3                2.0   \n",
       "\n",
       "                                                  Likes  \\\n",
       "0     The office is great and you have best in indus...   \n",
       "1     Good work life balance and team building exerc...   \n",
       "2       good about this company, provides virtual roles   \n",
       "3     Leaves are there but more than policy it will ...   \n",
       "4     Amazon has high standard when it comes to runn...   \n",
       "...                                                 ...   \n",
       "9985  People from IIMs and ISBs only have the opport...   \n",
       "9986  Amazon give opportunity for promoting your tho...   \n",
       "9987                                            Nothing   \n",
       "9988  Amazon marketplace genuine customer service su...   \n",
       "9989  Good pay, 6 pagers, focus on prioritisation an...   \n",
       "\n",
       "                                               Dislikes  \n",
       "0     Worst work life balance.\\nThe managers have to...  \n",
       "1     No job security. They will cut you out any-day...  \n",
       "2     this company is really bad , no job security ,...  \n",
       "3     To be honest there are Many consumer team but ...  \n",
       "4             Management layer has lot of redundancies.  \n",
       "...                                                 ...  \n",
       "9985  Less visibility for next level and promotions ...  \n",
       "9986  Amazon has adopted giving responsibility of Wo...  \n",
       "9987  It was a terrible experience working with amaz...  \n",
       "9988  Logistics supply management application operat...  \n",
       "9989  Toxic culture (but that will depend on your te...  \n",
       "\n",
       "[9990 rows x 13 columns]"
      ]
     },
     "execution_count": 35,
     "metadata": {},
     "output_type": "execute_result"
    }
   ],
   "source": [
    "AR2=AR.copy()\n",
    "AR2"
   ]
  },
  {
   "cell_type": "code",
   "execution_count": 34,
   "id": "15f2e4e4",
   "metadata": {},
   "outputs": [
    {
     "data": {
      "text/plain": [
       "Index(['Job Role', 'Place', 'Department', 'Department1', 'Overall_rating',\n",
       "       'work_life_balance', 'skill_development', 'salary_and_benefits',\n",
       "       'job_security', 'career_growth', 'work_satisfaction', 'Likes',\n",
       "       'Dislikes'],\n",
       "      dtype='object')"
      ]
     },
     "execution_count": 34,
     "metadata": {},
     "output_type": "execute_result"
    }
   ],
   "source": [
    "AR.columns"
   ]
  },
  {
   "cell_type": "code",
   "execution_count": 36,
   "id": "1cc42838",
   "metadata": {},
   "outputs": [
    {
     "data": {
      "text/plain": [
       "Job Role                object\n",
       "Place                   object\n",
       "Department              object\n",
       "Department1             object\n",
       "Overall_rating          object\n",
       "work_life_balance       object\n",
       "skill_development       object\n",
       "salary_and_benefits      int64\n",
       "job_security           float64\n",
       "career_growth            int64\n",
       "work_satisfaction      float64\n",
       "Likes                   object\n",
       "Dislikes                object\n",
       "dtype: object"
      ]
     },
     "execution_count": 36,
     "metadata": {},
     "output_type": "execute_result"
    }
   ],
   "source": [
    "AR.dtypes"
   ]
  },
  {
   "cell_type": "code",
   "execution_count": 37,
   "id": "75616c52",
   "metadata": {},
   "outputs": [
    {
     "data": {
      "text/plain": [
       "Software Development Department            1998\n",
       "Customer Success Department                1998\n",
       "HR Operations Department                    999\n",
       "Non Voice Department                        999\n",
       "Operations Department                       999\n",
       "Occupational Health & Safety Department     999\n",
       "Voice                                       999\n",
       "Policy Department                           999\n",
       "Name: Department, dtype: int64"
      ]
     },
     "execution_count": 37,
     "metadata": {},
     "output_type": "execute_result"
    }
   ],
   "source": [
    "AR['Department'].value_counts()"
   ]
  },
  {
   "cell_type": "code",
   "execution_count": 38,
   "id": "c16c507b",
   "metadata": {},
   "outputs": [
    {
     "data": {
      "text/plain": [
       " Blended Department    999\n",
       "Name: Department1, dtype: int64"
      ]
     },
     "execution_count": 38,
     "metadata": {},
     "output_type": "execute_result"
    }
   ],
   "source": [
    "AR['Department1'].value_counts()"
   ]
  },
  {
   "cell_type": "code",
   "execution_count": null,
   "id": "a965aa77",
   "metadata": {},
   "outputs": [],
   "source": [
    "AR['Department'].describe()"
   ]
  },
  {
   "cell_type": "code",
   "execution_count": 39,
   "id": "d4f62780",
   "metadata": {},
   "outputs": [
    {
     "data": {
      "text/plain": [
       "0"
      ]
     },
     "execution_count": 39,
     "metadata": {},
     "output_type": "execute_result"
    }
   ],
   "source": [
    "AR['Department'].isnull().sum()"
   ]
  },
  {
   "cell_type": "code",
   "execution_count": null,
   "id": "0de21310",
   "metadata": {},
   "outputs": [],
   "source": [
    "AR['Department1'].describe()"
   ]
  },
  {
   "cell_type": "code",
   "execution_count": 40,
   "id": "6803190d",
   "metadata": {},
   "outputs": [
    {
     "data": {
      "text/plain": [
       "8991"
      ]
     },
     "execution_count": 40,
     "metadata": {},
     "output_type": "execute_result"
    }
   ],
   "source": [
    "AR['Department1'].isnull().sum()"
   ]
  },
  {
   "cell_type": "code",
   "execution_count": 41,
   "id": "2fc610ef",
   "metadata": {},
   "outputs": [
    {
     "data": {
      "text/plain": [
       "set()"
      ]
     },
     "execution_count": 41,
     "metadata": {},
     "output_type": "execute_result"
    }
   ],
   "source": [
    "set(AR['Department']).intersection(AR['Department1'])\n"
   ]
  },
  {
   "cell_type": "code",
   "execution_count": 44,
   "id": "79fdbdbd",
   "metadata": {},
   "outputs": [],
   "source": [
    "AR['Department1'].fillna(' ',inplace=True)"
   ]
  },
  {
   "cell_type": "code",
   "execution_count": 43,
   "id": "d2e2d235",
   "metadata": {},
   "outputs": [
    {
     "data": {
      "text/plain": [
       "8991"
      ]
     },
     "execution_count": 43,
     "metadata": {},
     "output_type": "execute_result"
    }
   ],
   "source": [
    "AR['Department1'].isnull().sum()"
   ]
  },
  {
   "cell_type": "code",
   "execution_count": 45,
   "id": "1ba92361",
   "metadata": {},
   "outputs": [
    {
     "data": {
      "text/plain": [
       "Software Development Department              1998\n",
       "Customer Success Department                  1998\n",
       "HR Operations Department                      999\n",
       "Non Voice Department                          999\n",
       "Operations Department                         999\n",
       "Occupational Health & Safety Department       999\n",
       "Voice   Blended Department                    999\n",
       "Policy Department                             999\n",
       "Name: Dept, dtype: int64"
      ]
     },
     "execution_count": 45,
     "metadata": {},
     "output_type": "execute_result"
    }
   ],
   "source": [
    "AR['Dept']=AR['Department']+' '+ AR['Department1']\n",
    "AR['Dept'].value_counts()"
   ]
  },
  {
   "cell_type": "code",
   "execution_count": 46,
   "id": "8435aeaf",
   "metadata": {},
   "outputs": [],
   "source": [
    "AR.drop(['Department'],axis=1,inplace=True)\n",
    "AR.drop(['Department1'],axis=1,inplace=True)"
   ]
  },
  {
   "cell_type": "code",
   "execution_count": null,
   "id": "d6c21b96",
   "metadata": {},
   "outputs": [],
   "source": [
    "AR.columns"
   ]
  },
  {
   "cell_type": "code",
   "execution_count": 47,
   "id": "f10a28f4",
   "metadata": {},
   "outputs": [],
   "source": [
    "AR.rename(columns={'Dept':'Department'},inplace=True)"
   ]
  },
  {
   "cell_type": "code",
   "execution_count": 48,
   "id": "a441ac30",
   "metadata": {},
   "outputs": [
    {
     "data": {
      "text/plain": [
       "Index(['Job Role', 'Place', 'Overall_rating', 'work_life_balance',\n",
       "       'skill_development', 'salary_and_benefits', 'job_security',\n",
       "       'career_growth', 'work_satisfaction', 'Likes', 'Dislikes',\n",
       "       'Department'],\n",
       "      dtype='object')"
      ]
     },
     "execution_count": 48,
     "metadata": {},
     "output_type": "execute_result"
    }
   ],
   "source": [
    "AR.columns"
   ]
  },
  {
   "cell_type": "code",
   "execution_count": null,
   "id": "7181cb96",
   "metadata": {},
   "outputs": [],
   "source": [
    "AR.dtypes"
   ]
  },
  {
   "cell_type": "code",
   "execution_count": 49,
   "id": "832ca56e",
   "metadata": {},
   "outputs": [
    {
     "data": {
      "text/plain": [
       "2                              2935\n",
       "1                              2935\n",
       "3                              1956\n",
       "4                               978\n",
       "5                               978\n",
       "Operations Department            59\n",
       "Customer Success Department      10\n",
       "Name: Overall_rating, dtype: int64"
      ]
     },
     "execution_count": 49,
     "metadata": {},
     "output_type": "execute_result"
    }
   ],
   "source": [
    "AR['Overall_rating'].value_counts()"
   ]
  },
  {
   "cell_type": "code",
   "execution_count": 50,
   "id": "cf509fdf",
   "metadata": {},
   "outputs": [
    {
     "data": {
      "text/plain": [
       "139"
      ]
     },
     "execution_count": 50,
     "metadata": {},
     "output_type": "execute_result"
    }
   ],
   "source": [
    "AR['Overall_rating'].isnull().sum()"
   ]
  },
  {
   "cell_type": "code",
   "execution_count": 51,
   "id": "56a8b278",
   "metadata": {},
   "outputs": [],
   "source": [
    "AR['Overall_rating'].replace('Operations Department',np.nan,inplace=True)\n",
    "AR['Overall_rating'].replace('Customer Success Department',np.nan,inplace=True)"
   ]
  },
  {
   "cell_type": "code",
   "execution_count": 52,
   "id": "6b49ca86",
   "metadata": {},
   "outputs": [
    {
     "data": {
      "text/plain": [
       "2    2935\n",
       "1    2935\n",
       "3    1956\n",
       "4     978\n",
       "5     978\n",
       "Name: Overall_rating, dtype: int64"
      ]
     },
     "execution_count": 52,
     "metadata": {},
     "output_type": "execute_result"
    }
   ],
   "source": [
    "AR['Overall_rating'].value_counts()"
   ]
  },
  {
   "cell_type": "code",
   "execution_count": 53,
   "id": "be7b6851",
   "metadata": {},
   "outputs": [
    {
     "data": {
      "text/plain": [
       "208"
      ]
     },
     "execution_count": 53,
     "metadata": {},
     "output_type": "execute_result"
    }
   ],
   "source": [
    "AR['Overall_rating'].isnull().sum()"
   ]
  },
  {
   "cell_type": "code",
   "execution_count": 54,
   "id": "09783429",
   "metadata": {},
   "outputs": [
    {
     "data": {
      "text/plain": [
       "208"
      ]
     },
     "execution_count": 54,
     "metadata": {},
     "output_type": "execute_result"
    }
   ],
   "source": [
    "num_nulls = AR['Overall_rating'].isnull().sum()\n",
    "num_nulls"
   ]
  },
  {
   "cell_type": "code",
   "execution_count": 55,
   "id": "187d577b",
   "metadata": {},
   "outputs": [
    {
     "name": "stdout",
     "output_type": "stream",
     "text": [
      "[5 1 2 5 2 1 1 1 1 3 1 4 4 5 3 1 1 4 5 3 5 3 3 1 2 5 1 4 3 3 1 2 5 1 4 1 3\n",
      " 2 1 3 5 3 2 4 1 2 5 5 1 1 2 5 5 2 1 3 2 4 1 4 3 1 4 5 4 5 3 1 5 3 5 4 4 3\n",
      " 5 5 2 1 1 5 2 1 2 1 3 2 4 3 1 4 3 1 2 5 5 5 4 2 3 1 5 1 3 2 2 1 4 3 4 1 3\n",
      " 5 3 3 3 2 1 3 2 2 3 1 5 2 5 4 1 3 3 1 5 5 2 1 2 3 4 1 2 2 3 5 3 1 3 3 2 3\n",
      " 4 3 5 2 1 4 4 2 5 4 1 5 3 5 5 2 4 5 4 2 4 5 5 2 1 5 4 1 3 4 1 2 1 4 5 5 1\n",
      " 3 2 3 5 4 2 5 4 2 1 1 1 1 3 2 3 5 3 1 4 5 1 3]\n"
     ]
    }
   ],
   "source": [
    "data=np.random.randint(1,6,size=num_nulls)\n",
    "print(data)"
   ]
  },
  {
   "cell_type": "code",
   "execution_count": 56,
   "id": "25305076",
   "metadata": {},
   "outputs": [],
   "source": [
    "#AR['Overall_rating'].fillna(pd.Series(data),inplace=True)\n",
    "AR.loc[AR['Overall_rating'].isnull(), 'Overall_rating'] = pd.Series(data, index=AR.index[AR['Overall_rating'].isnull()])"
   ]
  },
  {
   "cell_type": "code",
   "execution_count": 57,
   "id": "ab471cff",
   "metadata": {},
   "outputs": [
    {
     "data": {
      "text/plain": [
       "2    2935\n",
       "1    2935\n",
       "3    1956\n",
       "4     978\n",
       "5     978\n",
       "1      51\n",
       "5      44\n",
       "3      44\n",
       "2      37\n",
       "4      32\n",
       "Name: Overall_rating, dtype: int64"
      ]
     },
     "execution_count": 57,
     "metadata": {},
     "output_type": "execute_result"
    }
   ],
   "source": [
    "AR['Overall_rating'].value_counts()"
   ]
  },
  {
   "cell_type": "code",
   "execution_count": 58,
   "id": "54007a62",
   "metadata": {},
   "outputs": [],
   "source": [
    "AR['Overall_rating'] = AR['Overall_rating'] .astype(int)"
   ]
  },
  {
   "cell_type": "code",
   "execution_count": 59,
   "id": "23773221",
   "metadata": {},
   "outputs": [
    {
     "data": {
      "text/plain": [
       "0"
      ]
     },
     "execution_count": 59,
     "metadata": {},
     "output_type": "execute_result"
    }
   ],
   "source": [
    "AR['Overall_rating'].isnull().sum()"
   ]
  },
  {
   "cell_type": "code",
   "execution_count": 60,
   "id": "757b73a8",
   "metadata": {},
   "outputs": [
    {
     "data": {
      "text/plain": [
       "1    2986\n",
       "2    2972\n",
       "3    2000\n",
       "5    1022\n",
       "4    1010\n",
       "Name: Overall_rating, dtype: int64"
      ]
     },
     "execution_count": 60,
     "metadata": {},
     "output_type": "execute_result"
    }
   ],
   "source": [
    "AR['Overall_rating'].value_counts()"
   ]
  },
  {
   "cell_type": "code",
   "execution_count": null,
   "id": "1e87f1a6",
   "metadata": {},
   "outputs": [],
   "source": [
    "#AR=AR4.copy()"
   ]
  },
  {
   "cell_type": "code",
   "execution_count": 61,
   "id": "c44beb00",
   "metadata": {},
   "outputs": [
    {
     "data": {
      "text/plain": [
       "2      4995\n",
       "3      1998\n",
       "5       999\n",
       "4       999\n",
       "1       952\n",
       "one      47\n",
       "Name: work_life_balance, dtype: int64"
      ]
     },
     "execution_count": 61,
     "metadata": {},
     "output_type": "execute_result"
    }
   ],
   "source": [
    "AR['work_life_balance'].value_counts()"
   ]
  },
  {
   "cell_type": "code",
   "execution_count": 62,
   "id": "da2e77cf",
   "metadata": {},
   "outputs": [
    {
     "data": {
      "text/plain": [
       "0"
      ]
     },
     "execution_count": 62,
     "metadata": {},
     "output_type": "execute_result"
    }
   ],
   "source": [
    "Num_null1=AR['work_life_balance'].isnull().sum()\n",
    "Num_null1"
   ]
  },
  {
   "cell_type": "code",
   "execution_count": 63,
   "id": "2ebfb8cd",
   "metadata": {},
   "outputs": [],
   "source": [
    "AR['work_life_balance'].replace(np.nan,1,inplace=True)\n"
   ]
  },
  {
   "cell_type": "code",
   "execution_count": 64,
   "id": "074e232e",
   "metadata": {},
   "outputs": [
    {
     "data": {
      "text/plain": [
       "2      4995\n",
       "3      1998\n",
       "5       999\n",
       "4       999\n",
       "1       952\n",
       "one      47\n",
       "Name: work_life_balance, dtype: int64"
      ]
     },
     "execution_count": 64,
     "metadata": {},
     "output_type": "execute_result"
    }
   ],
   "source": [
    "AR['work_life_balance'].value_counts()"
   ]
  },
  {
   "cell_type": "code",
   "execution_count": 65,
   "id": "278d3fb3",
   "metadata": {},
   "outputs": [
    {
     "data": {
      "text/plain": [
       "0"
      ]
     },
     "execution_count": 65,
     "metadata": {},
     "output_type": "execute_result"
    }
   ],
   "source": [
    "AR['work_life_balance'].isnull().sum()"
   ]
  },
  {
   "cell_type": "code",
   "execution_count": 66,
   "id": "b7ca08ff",
   "metadata": {},
   "outputs": [],
   "source": [
    "AR['work_life_balance'].replace('one',1,inplace=True)"
   ]
  },
  {
   "cell_type": "code",
   "execution_count": 67,
   "id": "08602495",
   "metadata": {},
   "outputs": [],
   "source": [
    "AR['work_life_balance']=AR['work_life_balance'].astype(int)"
   ]
  },
  {
   "cell_type": "code",
   "execution_count": 68,
   "id": "e397de77",
   "metadata": {},
   "outputs": [
    {
     "data": {
      "text/plain": [
       "2    4995\n",
       "3    1998\n",
       "1     999\n",
       "5     999\n",
       "4     999\n",
       "Name: work_life_balance, dtype: int64"
      ]
     },
     "execution_count": 68,
     "metadata": {},
     "output_type": "execute_result"
    }
   ],
   "source": [
    "AR['work_life_balance'].value_counts()"
   ]
  },
  {
   "cell_type": "code",
   "execution_count": null,
   "id": "93b43b5c",
   "metadata": {},
   "outputs": [],
   "source": [
    "AR.columns"
   ]
  },
  {
   "cell_type": "code",
   "execution_count": 69,
   "id": "a1f5b014",
   "metadata": {},
   "outputs": [
    {
     "data": {
      "text/plain": [
       "1      3911\n",
       "3      1955\n",
       "2      1820\n",
       "4       978\n",
       "5       978\n",
       "two     136\n",
       "Name: skill_development, dtype: int64"
      ]
     },
     "execution_count": 69,
     "metadata": {},
     "output_type": "execute_result"
    }
   ],
   "source": [
    "AR['skill_development'].value_counts()"
   ]
  },
  {
   "cell_type": "code",
   "execution_count": 70,
   "id": "6468334c",
   "metadata": {},
   "outputs": [
    {
     "data": {
      "text/plain": [
       "212"
      ]
     },
     "execution_count": 70,
     "metadata": {},
     "output_type": "execute_result"
    }
   ],
   "source": [
    "nulls=AR['skill_development'].isnull().sum()\n",
    "nulls"
   ]
  },
  {
   "cell_type": "code",
   "execution_count": 71,
   "id": "fe72bce4",
   "metadata": {},
   "outputs": [
    {
     "data": {
      "text/plain": [
       "array([3, 4, 4, 2, 3, 4, 2, 1, 4, 1, 5, 3, 2, 5, 4, 5, 3, 5, 5, 3, 1, 5,\n",
       "       3, 4, 3, 3, 3, 5, 4, 3, 2, 3, 4, 1, 5, 4, 5, 5, 4, 5, 5, 4, 3, 1,\n",
       "       5, 4, 2, 4, 3, 3, 4, 3, 1, 3, 5, 3, 2, 2, 3, 2, 2, 4, 3, 3, 5, 3,\n",
       "       4, 5, 3, 1, 1, 1, 3, 5, 5, 1, 3, 5, 2, 5, 2, 3, 3, 5, 1, 3, 5, 1,\n",
       "       5, 5, 2, 5, 1, 3, 3, 5, 4, 2, 1, 5, 4, 4, 4, 3, 4, 2, 2, 3, 4, 5,\n",
       "       1, 1, 2, 1, 2, 1, 1, 3, 3, 2, 5, 4, 1, 1, 2, 4, 3, 5, 1, 4, 5, 3,\n",
       "       3, 2, 5, 1, 1, 2, 5, 4, 3, 1, 5, 5, 2, 2, 5, 4, 2, 3, 2, 4, 1, 5,\n",
       "       2, 5, 3, 1, 4, 1, 3, 3, 5, 1, 2, 1, 4, 3, 5, 2, 5, 4, 4, 4, 1, 2,\n",
       "       3, 2, 4, 1, 4, 5, 2, 2, 4, 4, 4, 3, 2, 3, 5, 1, 3, 2, 3, 2, 4, 2,\n",
       "       4, 1, 5, 2, 5, 1, 5, 1, 5, 1, 2, 5, 5, 5])"
      ]
     },
     "execution_count": 71,
     "metadata": {},
     "output_type": "execute_result"
    }
   ],
   "source": [
    "data=np.random.randint(1,6,size=nulls)\n",
    "data\n"
   ]
  },
  {
   "cell_type": "code",
   "execution_count": 72,
   "id": "db569a75",
   "metadata": {},
   "outputs": [],
   "source": [
    "AR['skill_development'].fillna(pd.Series(data,index=AR.index[AR['skill_development'].isnull()]),inplace=True)\n",
    "\n",
    "#AR.loc[AR['job_security'].isnull(), 'job_security'] = pd.Series(data, index=AR.index[AR['job_security'].isnull()])\n"
   ]
  },
  {
   "cell_type": "code",
   "execution_count": 73,
   "id": "fe93b7d5",
   "metadata": {},
   "outputs": [
    {
     "data": {
      "text/plain": [
       "1      3911\n",
       "3      1955\n",
       "2      1820\n",
       "4       978\n",
       "5       978\n",
       "two     136\n",
       "5.0      50\n",
       "3.0      47\n",
       "4.0      40\n",
       "2.0      38\n",
       "1.0      37\n",
       "Name: skill_development, dtype: int64"
      ]
     },
     "execution_count": 73,
     "metadata": {},
     "output_type": "execute_result"
    }
   ],
   "source": [
    "AR['skill_development'].value_counts()"
   ]
  },
  {
   "cell_type": "code",
   "execution_count": 74,
   "id": "f9f9a898",
   "metadata": {},
   "outputs": [
    {
     "data": {
      "text/plain": [
       "9990"
      ]
     },
     "execution_count": 74,
     "metadata": {},
     "output_type": "execute_result"
    }
   ],
   "source": [
    "AR['skill_development'].count()"
   ]
  },
  {
   "cell_type": "code",
   "execution_count": 75,
   "id": "c8b26f7b",
   "metadata": {},
   "outputs": [],
   "source": [
    "AR['skill_development'].replace('two',2,inplace=True)"
   ]
  },
  {
   "cell_type": "code",
   "execution_count": 76,
   "id": "769dcd64",
   "metadata": {},
   "outputs": [],
   "source": [
    "AR['skill_development']=AR['skill_development'].astype(int)"
   ]
  },
  {
   "cell_type": "code",
   "execution_count": 77,
   "id": "12054d0d",
   "metadata": {},
   "outputs": [
    {
     "data": {
      "text/plain": [
       "1    3948\n",
       "3    2002\n",
       "2    1994\n",
       "5    1028\n",
       "4    1018\n",
       "Name: skill_development, dtype: int64"
      ]
     },
     "execution_count": 77,
     "metadata": {},
     "output_type": "execute_result"
    }
   ],
   "source": [
    "AR['skill_development'].value_counts()"
   ]
  },
  {
   "cell_type": "code",
   "execution_count": 78,
   "id": "97dd5274",
   "metadata": {},
   "outputs": [
    {
     "data": {
      "text/plain": [
       "9990"
      ]
     },
     "execution_count": 78,
     "metadata": {},
     "output_type": "execute_result"
    }
   ],
   "source": [
    "AR['skill_development'].count()"
   ]
  },
  {
   "cell_type": "code",
   "execution_count": null,
   "id": "c526668b",
   "metadata": {},
   "outputs": [],
   "source": [
    "AR.columns"
   ]
  },
  {
   "cell_type": "code",
   "execution_count": 79,
   "id": "c173837e",
   "metadata": {},
   "outputs": [
    {
     "data": {
      "text/plain": [
       "1.0    4900\n",
       "2.0    1961\n",
       "3.0     981\n",
       "4.0     980\n",
       "5.0     980\n",
       "Name: job_security, dtype: int64"
      ]
     },
     "execution_count": 79,
     "metadata": {},
     "output_type": "execute_result"
    }
   ],
   "source": [
    "AR['job_security'].value_counts()"
   ]
  },
  {
   "cell_type": "code",
   "execution_count": 80,
   "id": "85beffe1",
   "metadata": {},
   "outputs": [
    {
     "data": {
      "text/plain": [
       "188"
      ]
     },
     "execution_count": 80,
     "metadata": {},
     "output_type": "execute_result"
    }
   ],
   "source": [
    "AR['job_security'].isnull().sum()"
   ]
  },
  {
   "cell_type": "code",
   "execution_count": 81,
   "id": "0fb9f35a",
   "metadata": {},
   "outputs": [],
   "source": [
    "nulls=AR['job_security'].isnull().sum()\n",
    "\n",
    "data=np.random.randint(1,6,size=nulls)\n",
    "\n",
    "AR.loc[AR['job_security'].isnull(), 'job_security'] = pd.Series(data, index=AR.index[AR['job_security'].isnull()])\n"
   ]
  },
  {
   "cell_type": "code",
   "execution_count": 82,
   "id": "4c20ca5f",
   "metadata": {},
   "outputs": [
    {
     "data": {
      "text/plain": [
       "0"
      ]
     },
     "execution_count": 82,
     "metadata": {},
     "output_type": "execute_result"
    }
   ],
   "source": [
    "AR['job_security'].isnull().sum()"
   ]
  },
  {
   "cell_type": "code",
   "execution_count": 83,
   "id": "058be342",
   "metadata": {},
   "outputs": [
    {
     "data": {
      "text/plain": [
       "Int64Index([], dtype='int64')"
      ]
     },
     "execution_count": 83,
     "metadata": {},
     "output_type": "execute_result"
    }
   ],
   "source": [
    "AR.index[AR['job_security'].isnull()]"
   ]
  },
  {
   "cell_type": "code",
   "execution_count": null,
   "id": "1c1aa55f",
   "metadata": {},
   "outputs": [],
   "source": [
    "AR.loc[AR['job_security'].isnull(), 'job_security']"
   ]
  },
  {
   "cell_type": "code",
   "execution_count": null,
   "id": "1563e63c",
   "metadata": {},
   "outputs": [],
   "source": [
    "AR['job_security'].isnull().sum()"
   ]
  },
  {
   "cell_type": "code",
   "execution_count": null,
   "id": "82091a03",
   "metadata": {},
   "outputs": [],
   "source": [
    "AR['job_security']=AR['job_security'].astype(int)"
   ]
  },
  {
   "cell_type": "code",
   "execution_count": null,
   "id": "30c5d4aa",
   "metadata": {},
   "outputs": [],
   "source": [
    "AR['job_security'].value_counts()"
   ]
  },
  {
   "cell_type": "code",
   "execution_count": null,
   "id": "b2e1f167",
   "metadata": {},
   "outputs": [],
   "source": [
    "AR.columns\n"
   ]
  },
  {
   "cell_type": "code",
   "execution_count": 84,
   "id": "9ad2740f",
   "metadata": {
    "scrolled": true
   },
   "outputs": [
    {
     "data": {
      "text/plain": [
       "The office is great and you have best in industry compensation.                                                                                                                                                                                                                                                     999\n",
       "Good work life balance and team building exercises.                                                                                                                                                                                                                                                                 999\n",
       "good about this company, provides virtual roles                                                                                                                                                                                                                                                                     999\n",
       "Leaves are there but more than policy it will be in your manager hands if they want to they will allow if not they will deny.                                                                                                                                                                                       999\n",
       "Amazon has high standard when it comes to running your services and applications in production. Developers are supposed to be the first line of defence in case of a mishap which allows them to work with senior product managers, senior technical product managers etc. which is a great learning experience.    999\n",
       "People from IIMs and ISBs only have the opportunity to grow.People from the local colleges were taken as associates and it takes years to get promoted for them.very slow growth for business Operations and non technical associates.                                                                              999\n",
       "Amazon give opportunity for promoting your thoughts and experimenting them for betterment of business.                                                                                                                                                                                                              999\n",
       "Nothing                                                                                                                                                                                                                                                                                                             999\n",
       "Amazon marketplace genuine customer service support team leader association talk with me support company operates believe support supply management application operations different suggest me with and manager operations management SUPPORT we good.                                                             999\n",
       "Good pay, 6 pagers, focus on prioritisation and working backwards from the goal/ objective                                                                                                                                                                                                                          999\n",
       "Name: Likes, dtype: int64"
      ]
     },
     "execution_count": 84,
     "metadata": {},
     "output_type": "execute_result"
    }
   ],
   "source": [
    "AR['Likes'].value_counts()"
   ]
  },
  {
   "cell_type": "code",
   "execution_count": 85,
   "id": "9208127a",
   "metadata": {},
   "outputs": [
    {
     "data": {
      "text/plain": [
       "0"
      ]
     },
     "execution_count": 85,
     "metadata": {},
     "output_type": "execute_result"
    }
   ],
   "source": [
    "AR['Likes'].isnull().sum()"
   ]
  },
  {
   "cell_type": "code",
   "execution_count": 86,
   "id": "4958783c",
   "metadata": {},
   "outputs": [
    {
     "data": {
      "text/plain": [
       "Worst work life balance.\\nThe managers have to ask you to work at least 10 hrs a day and the work 12. \\nYour performance is measured against the team so if everyone is working 12 hours and you can work 8 you will always be the bottom performer. \\nPromotions are project based so if your.projects gets halted for any reason not you own so does your promotion.                                                                                                                                                                                                   999\n",
       "No job security. They will cut you out any-day anytime based on their business requirements and your performance won’t even gonna matter to them .                                                                                                                                                                                                                                                                                                                                                                                                                       999\n",
       "this company is really bad , no job security , the HR they have i guess not well educated that is why what company does, won't tell you at the time of offer letter that and after 3 weeks training they take your interview once again on the basis of comm skills , taken by comm skills trainer and trainer are taking this at personal level...and Sanajna oh god her fake accent is just killing you guys..com skills will be checked but there won't be any comm skills trainer during your trainer hahhahhaha imagine....don't go for this company...Read More    999\n",
       "To be honest there are Many consumer team but the team we are working is worst and it's like salary is 1 rs and work and expectations are is for 1000 rs. Amazon was best earlier but now☹️                                                                                                                                                                                                                                                                                                                                                                              999\n",
       "Management layer has lot of redundancies.                                                                                                                                                                                                                                                                                                                                                                                                                                                                                                                                999\n",
       "Less visibility for next level and promotions a at a point of time you feel stucked in the same place.                                                                                                                                                                                                                                                                                                                                                                                                                                                                   999\n",
       "Amazon has adopted giving responsibility of Workplace heath and safety to Non qualified professional specifically in leadership positions. More over the Leader for APAC region himself have lot of biases he is not a natural leader. Also non qualified for safety.                                                                                                                                                                                                                                                                                                    999\n",
       "It was a terrible experience working with amazon pay all the leadership and manager behave very badly with employees and threaten them for no reason they don’t even care about employee sentiment and satisfaction and they shows favouritism                                                                                                                                                                                                                                                                                                                           999\n",
       "Logistics supply management application operations used for Team overall good knowledge of them. Dislikes other not this.                                                                                                                                                                                                                                                                                                                                                                                                                                                999\n",
       "Toxic culture (but that will depend on your team), hierarchical, questionable job security and appraisal process                                                                                                                                                                                                                                                                                                                                                                                                                                                         999\n",
       "Name: Dislikes, dtype: int64"
      ]
     },
     "execution_count": 86,
     "metadata": {},
     "output_type": "execute_result"
    }
   ],
   "source": [
    "AR['Dislikes'].value_counts()"
   ]
  },
  {
   "cell_type": "code",
   "execution_count": 87,
   "id": "ad1c049a",
   "metadata": {},
   "outputs": [
    {
     "data": {
      "text/plain": [
       "0"
      ]
     },
     "execution_count": 87,
     "metadata": {},
     "output_type": "execute_result"
    }
   ],
   "source": [
    "AR['Dislikes'].isnull().sum()"
   ]
  },
  {
   "cell_type": "code",
   "execution_count": null,
   "id": "dcdbb889",
   "metadata": {},
   "outputs": [],
   "source": [
    "AR['salary_and_benefits'].isnull().sum()"
   ]
  },
  {
   "cell_type": "code",
   "execution_count": null,
   "id": "6d4302b9",
   "metadata": {},
   "outputs": [],
   "source": [
    "AR['career_growth'].value_counts()"
   ]
  },
  {
   "cell_type": "code",
   "execution_count": null,
   "id": "06db8a57",
   "metadata": {},
   "outputs": [],
   "source": [
    "AR['career_growth'].isnull().sum()"
   ]
  },
  {
   "cell_type": "code",
   "execution_count": null,
   "id": "b5fc5e37",
   "metadata": {},
   "outputs": [],
   "source": [
    "AR['salary_and_benefits'].value_counts()"
   ]
  },
  {
   "cell_type": "code",
   "execution_count": null,
   "id": "15c4a92b",
   "metadata": {
    "scrolled": true
   },
   "outputs": [],
   "source": [
    "AR['work_satisfaction'].value_counts()"
   ]
  },
  {
   "cell_type": "code",
   "execution_count": null,
   "id": "43cecd82",
   "metadata": {},
   "outputs": [],
   "source": [
    "AR['work_satisfaction'].isnull().sum()"
   ]
  },
  {
   "cell_type": "code",
   "execution_count": null,
   "id": "1db6542f",
   "metadata": {},
   "outputs": [],
   "source": [
    "nulls=AR['work_satisfaction'].isnull().sum()\n",
    "\n",
    "data=np.random.randint(1,6,size=nulls)\n",
    "\n",
    "AR.loc[AR['work_satisfaction'].isnull(), 'work_satisfaction'] = pd.Series(data, index=AR.index[AR['work_satisfaction'].isnull()])"
   ]
  },
  {
   "cell_type": "code",
   "execution_count": null,
   "id": "9c66b9d4",
   "metadata": {},
   "outputs": [],
   "source": [
    "AR['work_satisfaction']=AR['work_satisfaction'].astype(int)"
   ]
  },
  {
   "cell_type": "code",
   "execution_count": null,
   "id": "8eecd4fd",
   "metadata": {},
   "outputs": [],
   "source": [
    "AR['work_satisfaction'].isnull().sum()"
   ]
  },
  {
   "cell_type": "code",
   "execution_count": 88,
   "id": "68dbcfd0",
   "metadata": {},
   "outputs": [
    {
     "data": {
      "text/plain": [
       "Job Role                object\n",
       "Place                   object\n",
       "Overall_rating           int32\n",
       "work_life_balance        int32\n",
       "skill_development        int32\n",
       "salary_and_benefits      int64\n",
       "job_security           float64\n",
       "career_growth            int64\n",
       "work_satisfaction      float64\n",
       "Likes                   object\n",
       "Dislikes                object\n",
       "Department              object\n",
       "dtype: object"
      ]
     },
     "execution_count": 88,
     "metadata": {},
     "output_type": "execute_result"
    }
   ],
   "source": [
    "AR.dtypes"
   ]
  },
  {
   "cell_type": "code",
   "execution_count": null,
   "id": "87fc422d",
   "metadata": {},
   "outputs": [],
   "source": [
    "AR['Place'].value_counts()"
   ]
  },
  {
   "cell_type": "code",
   "execution_count": null,
   "id": "c8c970be",
   "metadata": {},
   "outputs": [],
   "source": [
    "AR['Place'].isnull().sum()"
   ]
  },
  {
   "cell_type": "code",
   "execution_count": null,
   "id": "2d57fe29",
   "metadata": {},
   "outputs": [],
   "source": [
    "AR['Place'].replace(np.nan,'Remote',inplace=True)"
   ]
  },
  {
   "cell_type": "code",
   "execution_count": null,
   "id": "885a1ade",
   "metadata": {},
   "outputs": [],
   "source": [
    "AR['Place'].value_counts()"
   ]
  },
  {
   "cell_type": "code",
   "execution_count": null,
   "id": "115401f3",
   "metadata": {},
   "outputs": [],
   "source": [
    "AR"
   ]
  },
  {
   "cell_type": "code",
   "execution_count": 89,
   "id": "b4b06eb5",
   "metadata": {},
   "outputs": [
    {
     "ename": "TypeError",
     "evalue": "'value' must be an instance of str or bytes, not a float",
     "output_type": "error",
     "traceback": [
      "\u001b[1;31m---------------------------------------------------------------------------\u001b[0m",
      "\u001b[1;31mTypeError\u001b[0m                                 Traceback (most recent call last)",
      "Input \u001b[1;32mIn [89]\u001b[0m, in \u001b[0;36m<cell line: 2>\u001b[1;34m()\u001b[0m\n\u001b[0;32m      1\u001b[0m plt\u001b[38;5;241m.\u001b[39mfigure(figsize\u001b[38;5;241m=\u001b[39m(\u001b[38;5;241m10\u001b[39m, \u001b[38;5;241m6\u001b[39m))\n\u001b[1;32m----> 2\u001b[0m \u001b[43mplt\u001b[49m\u001b[38;5;241;43m.\u001b[39;49m\u001b[43mbar\u001b[49m\u001b[43m(\u001b[49m\u001b[43mAR\u001b[49m\u001b[43m[\u001b[49m\u001b[38;5;124;43m'\u001b[39;49m\u001b[38;5;124;43mPlace\u001b[39;49m\u001b[38;5;124;43m'\u001b[39;49m\u001b[43m]\u001b[49m\u001b[43m,\u001b[49m\u001b[43m \u001b[49m\u001b[43mAR\u001b[49m\u001b[43m[\u001b[49m\u001b[38;5;124;43m'\u001b[39;49m\u001b[38;5;124;43msalary_and_benefits\u001b[39;49m\u001b[38;5;124;43m'\u001b[39;49m\u001b[43m]\u001b[49m\u001b[43m,\u001b[49m\u001b[43m \u001b[49m\u001b[43mcolor\u001b[49m\u001b[38;5;241;43m=\u001b[39;49m\u001b[38;5;124;43m'\u001b[39;49m\u001b[38;5;124;43mskyblue\u001b[39;49m\u001b[38;5;124;43m'\u001b[39;49m\u001b[43m)\u001b[49m\n\u001b[0;32m      3\u001b[0m plt\u001b[38;5;241m.\u001b[39mxlabel(\u001b[38;5;124m'\u001b[39m\u001b[38;5;124mPlace\u001b[39m\u001b[38;5;124m'\u001b[39m)\n\u001b[0;32m      4\u001b[0m plt\u001b[38;5;241m.\u001b[39mylabel(\u001b[38;5;124m'\u001b[39m\u001b[38;5;124msalary_and_benefits\u001b[39m\u001b[38;5;124m'\u001b[39m)\n",
      "File \u001b[1;32mC:\\ProgramData\\anaconda3\\lib\\site-packages\\matplotlib\\pyplot.py:2412\u001b[0m, in \u001b[0;36mbar\u001b[1;34m(x, height, width, bottom, align, data, **kwargs)\u001b[0m\n\u001b[0;32m   2408\u001b[0m \u001b[38;5;129m@_copy_docstring_and_deprecators\u001b[39m(Axes\u001b[38;5;241m.\u001b[39mbar)\n\u001b[0;32m   2409\u001b[0m \u001b[38;5;28;01mdef\u001b[39;00m \u001b[38;5;21mbar\u001b[39m(\n\u001b[0;32m   2410\u001b[0m         x, height, width\u001b[38;5;241m=\u001b[39m\u001b[38;5;241m0.8\u001b[39m, bottom\u001b[38;5;241m=\u001b[39m\u001b[38;5;28;01mNone\u001b[39;00m, \u001b[38;5;241m*\u001b[39m, align\u001b[38;5;241m=\u001b[39m\u001b[38;5;124m'\u001b[39m\u001b[38;5;124mcenter\u001b[39m\u001b[38;5;124m'\u001b[39m,\n\u001b[0;32m   2411\u001b[0m         data\u001b[38;5;241m=\u001b[39m\u001b[38;5;28;01mNone\u001b[39;00m, \u001b[38;5;241m*\u001b[39m\u001b[38;5;241m*\u001b[39mkwargs):\n\u001b[1;32m-> 2412\u001b[0m     \u001b[38;5;28;01mreturn\u001b[39;00m gca()\u001b[38;5;241m.\u001b[39mbar(\n\u001b[0;32m   2413\u001b[0m         x, height, width\u001b[38;5;241m=\u001b[39mwidth, bottom\u001b[38;5;241m=\u001b[39mbottom, align\u001b[38;5;241m=\u001b[39malign,\n\u001b[0;32m   2414\u001b[0m         \u001b[38;5;241m*\u001b[39m\u001b[38;5;241m*\u001b[39m({\u001b[38;5;124m\"\u001b[39m\u001b[38;5;124mdata\u001b[39m\u001b[38;5;124m\"\u001b[39m: data} \u001b[38;5;28;01mif\u001b[39;00m data \u001b[38;5;129;01mis\u001b[39;00m \u001b[38;5;129;01mnot\u001b[39;00m \u001b[38;5;28;01mNone\u001b[39;00m \u001b[38;5;28;01melse\u001b[39;00m {}), \u001b[38;5;241m*\u001b[39m\u001b[38;5;241m*\u001b[39mkwargs)\n",
      "File \u001b[1;32mC:\\ProgramData\\anaconda3\\lib\\site-packages\\matplotlib\\__init__.py:1442\u001b[0m, in \u001b[0;36m_preprocess_data.<locals>.inner\u001b[1;34m(ax, data, *args, **kwargs)\u001b[0m\n\u001b[0;32m   1439\u001b[0m \u001b[38;5;129m@functools\u001b[39m\u001b[38;5;241m.\u001b[39mwraps(func)\n\u001b[0;32m   1440\u001b[0m \u001b[38;5;28;01mdef\u001b[39;00m \u001b[38;5;21minner\u001b[39m(ax, \u001b[38;5;241m*\u001b[39margs, data\u001b[38;5;241m=\u001b[39m\u001b[38;5;28;01mNone\u001b[39;00m, \u001b[38;5;241m*\u001b[39m\u001b[38;5;241m*\u001b[39mkwargs):\n\u001b[0;32m   1441\u001b[0m     \u001b[38;5;28;01mif\u001b[39;00m data \u001b[38;5;129;01mis\u001b[39;00m \u001b[38;5;28;01mNone\u001b[39;00m:\n\u001b[1;32m-> 1442\u001b[0m         \u001b[38;5;28;01mreturn\u001b[39;00m func(ax, \u001b[38;5;241m*\u001b[39m\u001b[38;5;28mmap\u001b[39m(sanitize_sequence, args), \u001b[38;5;241m*\u001b[39m\u001b[38;5;241m*\u001b[39mkwargs)\n\u001b[0;32m   1444\u001b[0m     bound \u001b[38;5;241m=\u001b[39m new_sig\u001b[38;5;241m.\u001b[39mbind(ax, \u001b[38;5;241m*\u001b[39margs, \u001b[38;5;241m*\u001b[39m\u001b[38;5;241m*\u001b[39mkwargs)\n\u001b[0;32m   1445\u001b[0m     auto_label \u001b[38;5;241m=\u001b[39m (bound\u001b[38;5;241m.\u001b[39marguments\u001b[38;5;241m.\u001b[39mget(label_namer)\n\u001b[0;32m   1446\u001b[0m                   \u001b[38;5;129;01mor\u001b[39;00m bound\u001b[38;5;241m.\u001b[39mkwargs\u001b[38;5;241m.\u001b[39mget(label_namer))\n",
      "File \u001b[1;32mC:\\ProgramData\\anaconda3\\lib\\site-packages\\matplotlib\\axes\\_axes.py:2392\u001b[0m, in \u001b[0;36mAxes.bar\u001b[1;34m(self, x, height, width, bottom, align, **kwargs)\u001b[0m\n\u001b[0;32m   2389\u001b[0m         x \u001b[38;5;241m=\u001b[39m \u001b[38;5;241m0\u001b[39m\n\u001b[0;32m   2391\u001b[0m \u001b[38;5;28;01mif\u001b[39;00m orientation \u001b[38;5;241m==\u001b[39m \u001b[38;5;124m'\u001b[39m\u001b[38;5;124mvertical\u001b[39m\u001b[38;5;124m'\u001b[39m:\n\u001b[1;32m-> 2392\u001b[0m     \u001b[38;5;28;43mself\u001b[39;49m\u001b[38;5;241;43m.\u001b[39;49m\u001b[43m_process_unit_info\u001b[49m\u001b[43m(\u001b[49m\n\u001b[0;32m   2393\u001b[0m \u001b[43m        \u001b[49m\u001b[43m[\u001b[49m\u001b[43m(\u001b[49m\u001b[38;5;124;43m\"\u001b[39;49m\u001b[38;5;124;43mx\u001b[39;49m\u001b[38;5;124;43m\"\u001b[39;49m\u001b[43m,\u001b[49m\u001b[43m \u001b[49m\u001b[43mx\u001b[49m\u001b[43m)\u001b[49m\u001b[43m,\u001b[49m\u001b[43m \u001b[49m\u001b[43m(\u001b[49m\u001b[38;5;124;43m\"\u001b[39;49m\u001b[38;5;124;43my\u001b[39;49m\u001b[38;5;124;43m\"\u001b[39;49m\u001b[43m,\u001b[49m\u001b[43m \u001b[49m\u001b[43mheight\u001b[49m\u001b[43m)\u001b[49m\u001b[43m]\u001b[49m\u001b[43m,\u001b[49m\u001b[43m \u001b[49m\u001b[43mkwargs\u001b[49m\u001b[43m,\u001b[49m\u001b[43m \u001b[49m\u001b[43mconvert\u001b[49m\u001b[38;5;241;43m=\u001b[39;49m\u001b[38;5;28;43;01mFalse\u001b[39;49;00m\u001b[43m)\u001b[49m\n\u001b[0;32m   2394\u001b[0m     \u001b[38;5;28;01mif\u001b[39;00m log:\n\u001b[0;32m   2395\u001b[0m         \u001b[38;5;28mself\u001b[39m\u001b[38;5;241m.\u001b[39mset_yscale(\u001b[38;5;124m'\u001b[39m\u001b[38;5;124mlog\u001b[39m\u001b[38;5;124m'\u001b[39m, nonpositive\u001b[38;5;241m=\u001b[39m\u001b[38;5;124m'\u001b[39m\u001b[38;5;124mclip\u001b[39m\u001b[38;5;124m'\u001b[39m)\n",
      "File \u001b[1;32mC:\\ProgramData\\anaconda3\\lib\\site-packages\\matplotlib\\axes\\_base.py:2551\u001b[0m, in \u001b[0;36m_AxesBase._process_unit_info\u001b[1;34m(self, datasets, kwargs, convert)\u001b[0m\n\u001b[0;32m   2547\u001b[0m     \u001b[38;5;66;03m# Update from data if axis is already set but no unit is set yet.\u001b[39;00m\n\u001b[0;32m   2548\u001b[0m     \u001b[38;5;28;01mif\u001b[39;00m (axis \u001b[38;5;129;01mis\u001b[39;00m \u001b[38;5;129;01mnot\u001b[39;00m \u001b[38;5;28;01mNone\u001b[39;00m \u001b[38;5;129;01mand\u001b[39;00m\n\u001b[0;32m   2549\u001b[0m             data \u001b[38;5;129;01mis\u001b[39;00m \u001b[38;5;129;01mnot\u001b[39;00m \u001b[38;5;28;01mNone\u001b[39;00m \u001b[38;5;129;01mand\u001b[39;00m\n\u001b[0;32m   2550\u001b[0m             \u001b[38;5;129;01mnot\u001b[39;00m axis\u001b[38;5;241m.\u001b[39m_have_units_and_converter()):\n\u001b[1;32m-> 2551\u001b[0m         \u001b[43maxis\u001b[49m\u001b[38;5;241;43m.\u001b[39;49m\u001b[43mupdate_units\u001b[49m\u001b[43m(\u001b[49m\u001b[43mdata\u001b[49m\u001b[43m)\u001b[49m\n\u001b[0;32m   2552\u001b[0m \u001b[38;5;28;01mfor\u001b[39;00m axis_name, axis \u001b[38;5;129;01min\u001b[39;00m axis_map\u001b[38;5;241m.\u001b[39mitems():\n\u001b[0;32m   2553\u001b[0m     \u001b[38;5;66;03m# Return if no axis is set.\u001b[39;00m\n\u001b[0;32m   2554\u001b[0m     \u001b[38;5;28;01mif\u001b[39;00m axis \u001b[38;5;129;01mis\u001b[39;00m \u001b[38;5;28;01mNone\u001b[39;00m:\n",
      "File \u001b[1;32mC:\\ProgramData\\anaconda3\\lib\\site-packages\\matplotlib\\axis.py:1670\u001b[0m, in \u001b[0;36mAxis.update_units\u001b[1;34m(self, data)\u001b[0m\n\u001b[0;32m   1668\u001b[0m neednew \u001b[38;5;241m=\u001b[39m \u001b[38;5;28mself\u001b[39m\u001b[38;5;241m.\u001b[39mconverter \u001b[38;5;241m!=\u001b[39m converter\n\u001b[0;32m   1669\u001b[0m \u001b[38;5;28mself\u001b[39m\u001b[38;5;241m.\u001b[39mconverter \u001b[38;5;241m=\u001b[39m converter\n\u001b[1;32m-> 1670\u001b[0m default \u001b[38;5;241m=\u001b[39m \u001b[38;5;28;43mself\u001b[39;49m\u001b[38;5;241;43m.\u001b[39;49m\u001b[43mconverter\u001b[49m\u001b[38;5;241;43m.\u001b[39;49m\u001b[43mdefault_units\u001b[49m\u001b[43m(\u001b[49m\u001b[43mdata\u001b[49m\u001b[43m,\u001b[49m\u001b[43m \u001b[49m\u001b[38;5;28;43mself\u001b[39;49m\u001b[43m)\u001b[49m\n\u001b[0;32m   1671\u001b[0m \u001b[38;5;28;01mif\u001b[39;00m default \u001b[38;5;129;01mis\u001b[39;00m \u001b[38;5;129;01mnot\u001b[39;00m \u001b[38;5;28;01mNone\u001b[39;00m \u001b[38;5;129;01mand\u001b[39;00m \u001b[38;5;28mself\u001b[39m\u001b[38;5;241m.\u001b[39munits \u001b[38;5;129;01mis\u001b[39;00m \u001b[38;5;28;01mNone\u001b[39;00m:\n\u001b[0;32m   1672\u001b[0m     \u001b[38;5;28mself\u001b[39m\u001b[38;5;241m.\u001b[39mset_units(default)\n",
      "File \u001b[1;32mC:\\ProgramData\\anaconda3\\lib\\site-packages\\matplotlib\\category.py:105\u001b[0m, in \u001b[0;36mStrCategoryConverter.default_units\u001b[1;34m(data, axis)\u001b[0m\n\u001b[0;32m    103\u001b[0m \u001b[38;5;66;03m# the conversion call stack is default_units -> axis_info -> convert\u001b[39;00m\n\u001b[0;32m    104\u001b[0m \u001b[38;5;28;01mif\u001b[39;00m axis\u001b[38;5;241m.\u001b[39munits \u001b[38;5;129;01mis\u001b[39;00m \u001b[38;5;28;01mNone\u001b[39;00m:\n\u001b[1;32m--> 105\u001b[0m     axis\u001b[38;5;241m.\u001b[39mset_units(\u001b[43mUnitData\u001b[49m\u001b[43m(\u001b[49m\u001b[43mdata\u001b[49m\u001b[43m)\u001b[49m)\n\u001b[0;32m    106\u001b[0m \u001b[38;5;28;01melse\u001b[39;00m:\n\u001b[0;32m    107\u001b[0m     axis\u001b[38;5;241m.\u001b[39munits\u001b[38;5;241m.\u001b[39mupdate(data)\n",
      "File \u001b[1;32mC:\\ProgramData\\anaconda3\\lib\\site-packages\\matplotlib\\category.py:181\u001b[0m, in \u001b[0;36mUnitData.__init__\u001b[1;34m(self, data)\u001b[0m\n\u001b[0;32m    179\u001b[0m \u001b[38;5;28mself\u001b[39m\u001b[38;5;241m.\u001b[39m_counter \u001b[38;5;241m=\u001b[39m itertools\u001b[38;5;241m.\u001b[39mcount()\n\u001b[0;32m    180\u001b[0m \u001b[38;5;28;01mif\u001b[39;00m data \u001b[38;5;129;01mis\u001b[39;00m \u001b[38;5;129;01mnot\u001b[39;00m \u001b[38;5;28;01mNone\u001b[39;00m:\n\u001b[1;32m--> 181\u001b[0m     \u001b[38;5;28;43mself\u001b[39;49m\u001b[38;5;241;43m.\u001b[39;49m\u001b[43mupdate\u001b[49m\u001b[43m(\u001b[49m\u001b[43mdata\u001b[49m\u001b[43m)\u001b[49m\n",
      "File \u001b[1;32mC:\\ProgramData\\anaconda3\\lib\\site-packages\\matplotlib\\category.py:216\u001b[0m, in \u001b[0;36mUnitData.update\u001b[1;34m(self, data)\u001b[0m\n\u001b[0;32m    213\u001b[0m convertible \u001b[38;5;241m=\u001b[39m \u001b[38;5;28;01mTrue\u001b[39;00m\n\u001b[0;32m    214\u001b[0m \u001b[38;5;28;01mfor\u001b[39;00m val \u001b[38;5;129;01min\u001b[39;00m OrderedDict\u001b[38;5;241m.\u001b[39mfromkeys(data):\n\u001b[0;32m    215\u001b[0m     \u001b[38;5;66;03m# OrderedDict just iterates over unique values in data.\u001b[39;00m\n\u001b[1;32m--> 216\u001b[0m     \u001b[43m_api\u001b[49m\u001b[38;5;241;43m.\u001b[39;49m\u001b[43mcheck_isinstance\u001b[49m\u001b[43m(\u001b[49m\u001b[43m(\u001b[49m\u001b[38;5;28;43mstr\u001b[39;49m\u001b[43m,\u001b[49m\u001b[43m \u001b[49m\u001b[38;5;28;43mbytes\u001b[39;49m\u001b[43m)\u001b[49m\u001b[43m,\u001b[49m\u001b[43m \u001b[49m\u001b[43mvalue\u001b[49m\u001b[38;5;241;43m=\u001b[39;49m\u001b[43mval\u001b[49m\u001b[43m)\u001b[49m\n\u001b[0;32m    217\u001b[0m     \u001b[38;5;28;01mif\u001b[39;00m convertible:\n\u001b[0;32m    218\u001b[0m         \u001b[38;5;66;03m# this will only be called so long as convertible is True.\u001b[39;00m\n\u001b[0;32m    219\u001b[0m         convertible \u001b[38;5;241m=\u001b[39m \u001b[38;5;28mself\u001b[39m\u001b[38;5;241m.\u001b[39m_str_is_convertible(val)\n",
      "File \u001b[1;32mC:\\ProgramData\\anaconda3\\lib\\site-packages\\matplotlib\\_api\\__init__.py:93\u001b[0m, in \u001b[0;36mcheck_isinstance\u001b[1;34m(_types, **kwargs)\u001b[0m\n\u001b[0;32m     91\u001b[0m     names\u001b[38;5;241m.\u001b[39mremove(\u001b[38;5;124m\"\u001b[39m\u001b[38;5;124mNone\u001b[39m\u001b[38;5;124m\"\u001b[39m)\n\u001b[0;32m     92\u001b[0m     names\u001b[38;5;241m.\u001b[39mappend(\u001b[38;5;124m\"\u001b[39m\u001b[38;5;124mNone\u001b[39m\u001b[38;5;124m\"\u001b[39m)\n\u001b[1;32m---> 93\u001b[0m \u001b[38;5;28;01mraise\u001b[39;00m \u001b[38;5;167;01mTypeError\u001b[39;00m(\n\u001b[0;32m     94\u001b[0m     \u001b[38;5;124m\"\u001b[39m\u001b[38;5;132;01m{!r}\u001b[39;00m\u001b[38;5;124m must be an instance of \u001b[39m\u001b[38;5;132;01m{}\u001b[39;00m\u001b[38;5;124m, not a \u001b[39m\u001b[38;5;132;01m{}\u001b[39;00m\u001b[38;5;124m\"\u001b[39m\u001b[38;5;241m.\u001b[39mformat(\n\u001b[0;32m     95\u001b[0m         k,\n\u001b[0;32m     96\u001b[0m         \u001b[38;5;124m\"\u001b[39m\u001b[38;5;124m, \u001b[39m\u001b[38;5;124m\"\u001b[39m\u001b[38;5;241m.\u001b[39mjoin(names[:\u001b[38;5;241m-\u001b[39m\u001b[38;5;241m1\u001b[39m]) \u001b[38;5;241m+\u001b[39m \u001b[38;5;124m\"\u001b[39m\u001b[38;5;124m or \u001b[39m\u001b[38;5;124m\"\u001b[39m \u001b[38;5;241m+\u001b[39m names[\u001b[38;5;241m-\u001b[39m\u001b[38;5;241m1\u001b[39m]\n\u001b[0;32m     97\u001b[0m         \u001b[38;5;28;01mif\u001b[39;00m \u001b[38;5;28mlen\u001b[39m(names) \u001b[38;5;241m>\u001b[39m \u001b[38;5;241m1\u001b[39m \u001b[38;5;28;01melse\u001b[39;00m names[\u001b[38;5;241m0\u001b[39m],\n\u001b[0;32m     98\u001b[0m         type_name(\u001b[38;5;28mtype\u001b[39m(v))))\n",
      "\u001b[1;31mTypeError\u001b[0m: 'value' must be an instance of str or bytes, not a float"
     ]
    },
    {
     "data": {
      "image/png": "[encoded data removed]",
      "text/plain": [
       "<Figure size 720x432 with 1 Axes>"
      ]
     },
     "metadata": {
      "needs_background": "light"
     },
     "output_type": "display_data"
    }
   ],
   "source": [
    "plt.figure(figsize=(10, 6))\n",
    "plt.bar(AR['Place'], AR['salary_and_benefits'], color='skyblue')\n",
    "plt.xlabel('Place')\n",
    "plt.ylabel('salary_and_benefits')\n",
    "plt.title('salary_and_benefits by Place')\n",
    "plt.xticks(rotation=45)  # Rotate department labels for better readability\n",
    "plt.tight_layout()  # Adjust layout to prevent label cutoff\n",
    "plt.show()\n"
   ]
  },
  {
   "cell_type": "code",
   "execution_count": null,
   "id": "e2ad63b0",
   "metadata": {},
   "outputs": [],
   "source": [
    "AR['Place'].value_counts()\n"
   ]
  },
  {
   "cell_type": "code",
   "execution_count": null,
   "id": "c2ea8a94",
   "metadata": {},
   "outputs": [],
   "source": [
    "#AR[AR['Place'] == 'Hyderabad']\n",
    "Hyderabad_Data=AR[AR['Place'] == 'Noida']\n",
    "#Hyderabad_Data\n",
    "salary_benefits_hyderabad=(Hyderabad_Data['Overall_rating']).mean()\n",
    "salary_benefits_hyderabad\n"
   ]
  },
  {
   "cell_type": "code",
   "execution_count": null,
   "id": "0b0c67e8",
   "metadata": {},
   "outputs": [],
   "source": [
    "AR['work_life_balance']=AR['work_life_balance'].astype(int)"
   ]
  },
  {
   "cell_type": "code",
   "execution_count": null,
   "id": "15384c1f",
   "metadata": {},
   "outputs": [],
   "source": [
    "AR['work_life_balance'].value_counts()"
   ]
  },
  {
   "cell_type": "code",
   "execution_count": null,
   "id": "5c9aa48f",
   "metadata": {},
   "outputs": [],
   "source": [
    "AR['work_life_balance'].isnull().sum()"
   ]
  },
  {
   "cell_type": "code",
   "execution_count": null,
   "id": "8f2d4fb3",
   "metadata": {},
   "outputs": [],
   "source": [
    "AR"
   ]
  },
  {
   "cell_type": "code",
   "execution_count": null,
   "id": "e890f853",
   "metadata": {
    "scrolled": false
   },
   "outputs": [],
   "source": [
    "import seaborn as sns\n"
   ]
  },
  {
   "cell_type": "code",
   "execution_count": 91,
   "id": "ca4069f3",
   "metadata": {},
   "outputs": [
    {
     "data": {
      "text/html": [
       "<div>\n",
       "<style scoped>\n",
       "    .dataframe tbody tr th:only-of-type {\n",
       "        vertical-align: middle;\n",
       "    }\n",
       "\n",
       "    .dataframe tbody tr th {\n",
       "        vertical-align: top;\n",
       "    }\n",
       "\n",
       "    .dataframe thead th {\n",
       "        text-align: right;\n",
       "    }\n",
       "</style>\n",
       "<table border=\"1\" class=\"dataframe\">\n",
       "  <thead>\n",
       "    <tr style=\"text-align: right;\">\n",
       "      <th></th>\n",
       "      <th>Overall_rating</th>\n",
       "    </tr>\n",
       "    <tr>\n",
       "      <th>Place</th>\n",
       "      <th></th>\n",
       "    </tr>\n",
       "  </thead>\n",
       "  <tbody>\n",
       "    <tr>\n",
       "      <th>Bengaluru</th>\n",
       "      <td>3.493994</td>\n",
       "    </tr>\n",
       "    <tr>\n",
       "      <th>Hyderabad</th>\n",
       "      <td>1.524024</td>\n",
       "    </tr>\n",
       "    <tr>\n",
       "      <th>New Delhi</th>\n",
       "      <td>2.511512</td>\n",
       "    </tr>\n",
       "    <tr>\n",
       "      <th>Noida</th>\n",
       "      <td>1.039039</td>\n",
       "    </tr>\n",
       "    <tr>\n",
       "      <th>Raipur, Chhattisgarh</th>\n",
       "      <td>4.957958</td>\n",
       "    </tr>\n",
       "  </tbody>\n",
       "</table>\n",
       "</div>"
      ],
      "text/plain": [
       "                      Overall_rating\n",
       "Place                               \n",
       "Bengaluru                   3.493994\n",
       "Hyderabad                   1.524024\n",
       "New Delhi                   2.511512\n",
       "Noida                       1.039039\n",
       "Raipur, Chhattisgarh        4.957958"
      ]
     },
     "execution_count": 91,
     "metadata": {},
     "output_type": "execute_result"
    }
   ],
   "source": [
    "ae1 = AR.groupby(AR['Place'])['Overall_rating'].mean()\n",
    "ae2 = pd.DataFrame(ae1)\n",
    "ae2"
   ]
  },
  {
   "cell_type": "code",
   "execution_count": 92,
   "id": "fdee0c5b",
   "metadata": {},
   "outputs": [
    {
     "data": {
      "image/png": "[encoded data removed]",
      "text/plain": [
       "<Figure size 720x432 with 1 Axes>"
      ]
     },
     "metadata": {
      "needs_background": "light"
     },
     "output_type": "display_data"
    }
   ],
   "source": [
    "# Create a bar plot\n",
    "plt.figure(figsize=(10, 6))  # Set the figure size\n",
    "\n",
    "# Use the 'Place' column from ae2 as the x-axis and 'Overall_rating' as the y-axis\n",
    "plt.bar(ae2.index, ae2['Overall_rating'])\n",
    "\n",
    "# Add labels and title\n",
    "plt.xlabel('Place')\n",
    "plt.ylabel('Average Overall Rating')\n",
    "plt.title('Average Overall Rating by Place')\n",
    "\n",
    "# Rotate x-axis labels for better readability (optional)\n",
    "plt.xticks(rotation=45)\n",
    "\n",
    "# Show the plot\n",
    "plt.tight_layout()\n",
    "plt.show()\n"
   ]
  },
  {
   "cell_type": "code",
   "execution_count": null,
   "id": "f7e713df",
   "metadata": {},
   "outputs": [],
   "source": [
    "AR.columns"
   ]
  },
  {
   "cell_type": "code",
   "execution_count": null,
   "id": "87673235",
   "metadata": {},
   "outputs": [],
   "source": [
    "Group=AR.groupby(['Place','Job Role'])['Overall_rating'].mean()\n",
    "Group"
   ]
  },
  {
   "cell_type": "code",
   "execution_count": 93,
   "id": "ec68a18e",
   "metadata": {},
   "outputs": [
    {
     "name": "stderr",
     "output_type": "stream",
     "text": [
      "C:\\Users\\vijay\\AppData\\Local\\Temp\\ipykernel_14960\\4125480261.py:4: FutureWarning: In a future version of pandas all arguments of DataFrame.pivot will be keyword-only.\n",
      "  heatmap_data = Group.pivot('Place', 'Job Role', 'Overall_rating')\n"
     ]
    },
    {
     "data": {
      "image/png": "[encoded data removed]",
      "text/plain": [
       "<Figure size 720x432 with 2 Axes>"
      ]
     },
     "metadata": {
      "needs_background": "light"
     },
     "output_type": "display_data"
    }
   ],
   "source": [
    "Group = AR.groupby(['Place', 'Job Role'])['Overall_rating'].mean().reset_index()\n",
    "\n",
    "# Pivot the table to create a heatmap\n",
    "heatmap_data = Group.pivot('Place', 'Job Role', 'Overall_rating')                     \n",
    "#.pivot says  This specifies the column whose unique values will become the new index (rows) in the pivoted DataFrame.\n",
    "\n",
    "# Create the heatmap\n",
    "plt.figure(figsize=(10, 6))\n",
    "sns.heatmap(heatmap_data, annot=True, cmap='coolwarm', linewidths=.5)\n",
    "plt.title('Mean Overall Ratings by Place and Job Role')\n",
    "plt.show()"
   ]
  },
  {
   "cell_type": "code",
   "execution_count": null,
   "id": "27b9f07b",
   "metadata": {},
   "outputs": [],
   "source": [
    "A=AR.groupby(['Place','Dislikes'])['Overall_rating'].mean()"
   ]
  },
  {
   "cell_type": "code",
   "execution_count": 94,
   "id": "b14d1ca4",
   "metadata": {},
   "outputs": [
    {
     "data": {
      "text/plain": [
       "It was a terrible experience working with amazon pay all the leadership and manager behave very badly with employees and threaten them for no reason they don’t even care about employee sentiment and satisfaction and they shows favouritism    999\n",
       "Name: Dislikes, dtype: int64"
      ]
     },
     "execution_count": 94,
     "metadata": {},
     "output_type": "execute_result"
    }
   ],
   "source": [
    "N=AR[AR['Place']=='Noida']\n",
    "N['Dislikes'].value_counts()\n"
   ]
  },
  {
   "cell_type": "code",
   "execution_count": 95,
   "id": "c94ee05c",
   "metadata": {},
   "outputs": [
    {
     "data": {
      "image/png": "[encoded data removed]",
      "text/plain": [
       "<Figure size 720x432 with 1 Axes>"
      ]
     },
     "metadata": {
      "needs_background": "light"
     },
     "output_type": "display_data"
    }
   ],
   "source": [
    "import matplotlib.pyplot as plt\n",
    "\n",
    "# Assuming you already have a DataFrame named 'AR'\n",
    "N = AR[AR['Place'] == 'Noida']\n",
    "\n",
    "# Count the values in the 'Dislikes' column for 'Noida'\n",
    "dislikes_counts = N['Dislikes'].value_counts()\n",
    "\n",
    "# Create a bar chart\n",
    "plt.figure(figsize=(10, 6))  # Adjust the figure size as needed\n",
    "dislikes_counts.plot(kind='bar')\n",
    "plt.title('Dislikes Count for Noida')\n",
    "plt.xlabel('Dislikes')\n",
    "plt.ylabel('Count')\n",
    "plt.xticks(rotation= 0)\n",
    "\n",
    "# Display the plot\n",
    "plt.show()\n"
   ]
  },
  {
   "cell_type": "code",
   "execution_count": null,
   "id": "a105b10b",
   "metadata": {
    "scrolled": true
   },
   "outputs": [],
   "source": [
    "#dislikes_counts = N['Dislikes'].value_counts()\n",
    "grouped_data=AR.groupby(['Place','Dislikes'])['Overall_rating'].mean()\n"
   ]
  },
  {
   "cell_type": "code",
   "execution_count": null,
   "id": "506a85e8",
   "metadata": {},
   "outputs": [],
   "source": [
    "\n",
    "# Convert the Series to a DataFrame with reset_index()\n",
    "grouped_data = grouped_data.reset_index()\n",
    "\n",
    "# Pivot the data to create a pivot table suitable for a heatmap\n",
    "pivot_data = grouped_data.pivot(index='Place', columns='Dislikes', values='Overall_rating')\n",
    "\n",
    "# Create a heatmap\n",
    "plt.figure(figsize=(12, 8))\n",
    "sns.heatmap(pivot_data, annot=True, fmt=\".2f\", cmap=\"YlGnBu\")\n",
    "plt.xlabel('Dislikes',loc='center')\n",
    "plt.ylabel('Place')\n",
    "plt.title('Mean Overall Rating Heatmap by Place and Dislikes')\n",
    "plt.xticks(rotation= 0)\n",
    "\n",
    "plt.show()\n",
    "\n"
   ]
  },
  {
   "cell_type": "code",
   "execution_count": null,
   "id": "ec47fa5e",
   "metadata": {},
   "outputs": [],
   "source": [
    "AR['Place'].isnull().sum()"
   ]
  },
  {
   "cell_type": "code",
   "execution_count": null,
   "id": "b3a5f08c",
   "metadata": {},
   "outputs": [],
   "source": [
    "AR['Place'].value_counts()"
   ]
  },
  {
   "cell_type": "code",
   "execution_count": null,
   "id": "4d81936d",
   "metadata": {},
   "outputs": [],
   "source": [
    "\n",
    "# Assuming you have a DataFrame named 'AR' and you want to modify the 'Place' column\n",
    "\n",
    "# Convert the 'Place' column in the DataFrame 'AR' to the string data type.\n",
    "AR['Place'] = AR['Place'].astype(str)\n"
   ]
  },
  {
   "cell_type": "code",
   "execution_count": null,
   "id": "6ad41409",
   "metadata": {},
   "outputs": [],
   "source": [
    "ARq = AR.groupby(['Job Role'])['work_life_balance'].mean()\n",
    "# Group the DataFrame 'AR' by the 'Job Role' column\n",
    "# and calculate the mean of the 'work_life_balance' column within each group\n",
    "ARq"
   ]
  },
  {
   "cell_type": "code",
   "execution_count": null,
   "id": "007ee3f4",
   "metadata": {},
   "outputs": [],
   "source": [
    "\n",
    "\n",
    "plt.figure(figsize=(6, 6))\n",
    "plt.pie(ARq, labels=ARq.index, autopct='%1.1f%%', startangle=90)\n",
    "plt.title('Mean Work-Life Balance by Name')\n",
    "plt.axis('equal')  # Equal aspect ratio ensures that pie is drawn as a circle.\n",
    "\n",
    "# Show the pie chart\n",
    "plt.show()"
   ]
  },
  {
   "cell_type": "code",
   "execution_count": null,
   "id": "1bd8de28",
   "metadata": {},
   "outputs": [],
   "source": [
    "for col in AR.describe(include='object').columns:\n",
    "    print(col)\n",
    "    print(AR[col].unique())\n",
    "    print('-'*50)"
   ]
  },
  {
   "cell_type": "code",
   "execution_count": null,
   "id": "38729d62",
   "metadata": {},
   "outputs": [],
   "source": [
    "N=AR[AR['Place']=='Noida']\n",
    "N['Dislikes'].value_counts()"
   ]
  },
  {
   "cell_type": "code",
   "execution_count": null,
   "id": "ff7b28ad",
   "metadata": {},
   "outputs": [],
   "source": [
    "dislikes_count = AR.groupby('Place')['Dislikes'].nunique()\n",
    "\n",
    "# Create a bar chart\n",
    "plt.figure(figsize=(8, 6))\n",
    "dislikes_count.plot(kind='bar', color='skyblue')\n",
    "plt.title('Unique number of Dislikes by Place')\n",
    "plt.xlabel('Place')\n",
    "plt.ylabel('Count')\n",
    "plt.xticks(rotation=45)  # Rotate x-axis labels for better readability\n",
    "\n",
    "# Show the bar chart\n",
    "plt.show()"
   ]
  }
 ],
 "metadata": {
  "kernelspec": {
   "display_name": "Python 3 (ipykernel)",
   "language": "python",
   "name": "python3"
  },
  "language_info": {
   "codemirror_mode": {
    "name": "ipython",
    "version": 3
   },
   "file_extension": ".py",
   "mimetype": "text/x-python",
   "name": "python",
   "nbconvert_exporter": "python",
   "pygments_lexer": "ipython3",
   "version": "3.10.9"
  }
 },
 "nbformat": 4,
 "nbformat_minor": 5
}
